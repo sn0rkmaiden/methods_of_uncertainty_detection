{
  "nbformat": 4,
  "nbformat_minor": 0,
  "metadata": {
    "colab": {
      "provenance": [],
      "gpuType": "T4"
    },
    "kernelspec": {
      "name": "python3",
      "display_name": "Python 3"
    },
    "language_info": {
      "name": "python"
    },
    "widgets": {
      "application/vnd.jupyter.widget-state+json": {
        "e37e81e6d9c346768072d8fe8d3a29a9": {
          "model_module": "@jupyter-widgets/controls",
          "model_name": "HBoxModel",
          "model_module_version": "1.5.0",
          "state": {
            "_dom_classes": [],
            "_model_module": "@jupyter-widgets/controls",
            "_model_module_version": "1.5.0",
            "_model_name": "HBoxModel",
            "_view_count": null,
            "_view_module": "@jupyter-widgets/controls",
            "_view_module_version": "1.5.0",
            "_view_name": "HBoxView",
            "box_style": "",
            "children": [
              "IPY_MODEL_f661efda370541ae94715a8f5a963316",
              "IPY_MODEL_cb874b33d974408092c37fe909830a64",
              "IPY_MODEL_c0891e7a9bdb425e9de69bcd825fd0d4"
            ],
            "layout": "IPY_MODEL_928f02d6ea1e49d78ba51ea16b323419"
          }
        },
        "f661efda370541ae94715a8f5a963316": {
          "model_module": "@jupyter-widgets/controls",
          "model_name": "HTMLModel",
          "model_module_version": "1.5.0",
          "state": {
            "_dom_classes": [],
            "_model_module": "@jupyter-widgets/controls",
            "_model_module_version": "1.5.0",
            "_model_name": "HTMLModel",
            "_view_count": null,
            "_view_module": "@jupyter-widgets/controls",
            "_view_module_version": "1.5.0",
            "_view_name": "HTMLView",
            "description": "",
            "description_tooltip": null,
            "layout": "IPY_MODEL_aa106d51e2b441828bd74041e17dd05c",
            "placeholder": "​",
            "style": "IPY_MODEL_66ab2ac951444e859cec69c9f2d27d14",
            "value": "Loading checkpoint shards: 100%"
          }
        },
        "cb874b33d974408092c37fe909830a64": {
          "model_module": "@jupyter-widgets/controls",
          "model_name": "FloatProgressModel",
          "model_module_version": "1.5.0",
          "state": {
            "_dom_classes": [],
            "_model_module": "@jupyter-widgets/controls",
            "_model_module_version": "1.5.0",
            "_model_name": "FloatProgressModel",
            "_view_count": null,
            "_view_module": "@jupyter-widgets/controls",
            "_view_module_version": "1.5.0",
            "_view_name": "ProgressView",
            "bar_style": "success",
            "description": "",
            "description_tooltip": null,
            "layout": "IPY_MODEL_5c61c38831fb4b2caac5f80789d9ba8f",
            "max": 2,
            "min": 0,
            "orientation": "horizontal",
            "style": "IPY_MODEL_2d51e53df03a42adaf31196b956b7bb6",
            "value": 2
          }
        },
        "c0891e7a9bdb425e9de69bcd825fd0d4": {
          "model_module": "@jupyter-widgets/controls",
          "model_name": "HTMLModel",
          "model_module_version": "1.5.0",
          "state": {
            "_dom_classes": [],
            "_model_module": "@jupyter-widgets/controls",
            "_model_module_version": "1.5.0",
            "_model_name": "HTMLModel",
            "_view_count": null,
            "_view_module": "@jupyter-widgets/controls",
            "_view_module_version": "1.5.0",
            "_view_name": "HTMLView",
            "description": "",
            "description_tooltip": null,
            "layout": "IPY_MODEL_80daea1be4774eaeaef7274039f9f078",
            "placeholder": "​",
            "style": "IPY_MODEL_a144d30cf0ce4ef8bf202b8284ef97cb",
            "value": " 2/2 [00:29&lt;00:00, 12.13s/it]"
          }
        },
        "928f02d6ea1e49d78ba51ea16b323419": {
          "model_module": "@jupyter-widgets/base",
          "model_name": "LayoutModel",
          "model_module_version": "1.2.0",
          "state": {
            "_model_module": "@jupyter-widgets/base",
            "_model_module_version": "1.2.0",
            "_model_name": "LayoutModel",
            "_view_count": null,
            "_view_module": "@jupyter-widgets/base",
            "_view_module_version": "1.2.0",
            "_view_name": "LayoutView",
            "align_content": null,
            "align_items": null,
            "align_self": null,
            "border": null,
            "bottom": null,
            "display": null,
            "flex": null,
            "flex_flow": null,
            "grid_area": null,
            "grid_auto_columns": null,
            "grid_auto_flow": null,
            "grid_auto_rows": null,
            "grid_column": null,
            "grid_gap": null,
            "grid_row": null,
            "grid_template_areas": null,
            "grid_template_columns": null,
            "grid_template_rows": null,
            "height": null,
            "justify_content": null,
            "justify_items": null,
            "left": null,
            "margin": null,
            "max_height": null,
            "max_width": null,
            "min_height": null,
            "min_width": null,
            "object_fit": null,
            "object_position": null,
            "order": null,
            "overflow": null,
            "overflow_x": null,
            "overflow_y": null,
            "padding": null,
            "right": null,
            "top": null,
            "visibility": null,
            "width": null
          }
        },
        "aa106d51e2b441828bd74041e17dd05c": {
          "model_module": "@jupyter-widgets/base",
          "model_name": "LayoutModel",
          "model_module_version": "1.2.0",
          "state": {
            "_model_module": "@jupyter-widgets/base",
            "_model_module_version": "1.2.0",
            "_model_name": "LayoutModel",
            "_view_count": null,
            "_view_module": "@jupyter-widgets/base",
            "_view_module_version": "1.2.0",
            "_view_name": "LayoutView",
            "align_content": null,
            "align_items": null,
            "align_self": null,
            "border": null,
            "bottom": null,
            "display": null,
            "flex": null,
            "flex_flow": null,
            "grid_area": null,
            "grid_auto_columns": null,
            "grid_auto_flow": null,
            "grid_auto_rows": null,
            "grid_column": null,
            "grid_gap": null,
            "grid_row": null,
            "grid_template_areas": null,
            "grid_template_columns": null,
            "grid_template_rows": null,
            "height": null,
            "justify_content": null,
            "justify_items": null,
            "left": null,
            "margin": null,
            "max_height": null,
            "max_width": null,
            "min_height": null,
            "min_width": null,
            "object_fit": null,
            "object_position": null,
            "order": null,
            "overflow": null,
            "overflow_x": null,
            "overflow_y": null,
            "padding": null,
            "right": null,
            "top": null,
            "visibility": null,
            "width": null
          }
        },
        "66ab2ac951444e859cec69c9f2d27d14": {
          "model_module": "@jupyter-widgets/controls",
          "model_name": "DescriptionStyleModel",
          "model_module_version": "1.5.0",
          "state": {
            "_model_module": "@jupyter-widgets/controls",
            "_model_module_version": "1.5.0",
            "_model_name": "DescriptionStyleModel",
            "_view_count": null,
            "_view_module": "@jupyter-widgets/base",
            "_view_module_version": "1.2.0",
            "_view_name": "StyleView",
            "description_width": ""
          }
        },
        "5c61c38831fb4b2caac5f80789d9ba8f": {
          "model_module": "@jupyter-widgets/base",
          "model_name": "LayoutModel",
          "model_module_version": "1.2.0",
          "state": {
            "_model_module": "@jupyter-widgets/base",
            "_model_module_version": "1.2.0",
            "_model_name": "LayoutModel",
            "_view_count": null,
            "_view_module": "@jupyter-widgets/base",
            "_view_module_version": "1.2.0",
            "_view_name": "LayoutView",
            "align_content": null,
            "align_items": null,
            "align_self": null,
            "border": null,
            "bottom": null,
            "display": null,
            "flex": null,
            "flex_flow": null,
            "grid_area": null,
            "grid_auto_columns": null,
            "grid_auto_flow": null,
            "grid_auto_rows": null,
            "grid_column": null,
            "grid_gap": null,
            "grid_row": null,
            "grid_template_areas": null,
            "grid_template_columns": null,
            "grid_template_rows": null,
            "height": null,
            "justify_content": null,
            "justify_items": null,
            "left": null,
            "margin": null,
            "max_height": null,
            "max_width": null,
            "min_height": null,
            "min_width": null,
            "object_fit": null,
            "object_position": null,
            "order": null,
            "overflow": null,
            "overflow_x": null,
            "overflow_y": null,
            "padding": null,
            "right": null,
            "top": null,
            "visibility": null,
            "width": null
          }
        },
        "2d51e53df03a42adaf31196b956b7bb6": {
          "model_module": "@jupyter-widgets/controls",
          "model_name": "ProgressStyleModel",
          "model_module_version": "1.5.0",
          "state": {
            "_model_module": "@jupyter-widgets/controls",
            "_model_module_version": "1.5.0",
            "_model_name": "ProgressStyleModel",
            "_view_count": null,
            "_view_module": "@jupyter-widgets/base",
            "_view_module_version": "1.2.0",
            "_view_name": "StyleView",
            "bar_color": null,
            "description_width": ""
          }
        },
        "80daea1be4774eaeaef7274039f9f078": {
          "model_module": "@jupyter-widgets/base",
          "model_name": "LayoutModel",
          "model_module_version": "1.2.0",
          "state": {
            "_model_module": "@jupyter-widgets/base",
            "_model_module_version": "1.2.0",
            "_model_name": "LayoutModel",
            "_view_count": null,
            "_view_module": "@jupyter-widgets/base",
            "_view_module_version": "1.2.0",
            "_view_name": "LayoutView",
            "align_content": null,
            "align_items": null,
            "align_self": null,
            "border": null,
            "bottom": null,
            "display": null,
            "flex": null,
            "flex_flow": null,
            "grid_area": null,
            "grid_auto_columns": null,
            "grid_auto_flow": null,
            "grid_auto_rows": null,
            "grid_column": null,
            "grid_gap": null,
            "grid_row": null,
            "grid_template_areas": null,
            "grid_template_columns": null,
            "grid_template_rows": null,
            "height": null,
            "justify_content": null,
            "justify_items": null,
            "left": null,
            "margin": null,
            "max_height": null,
            "max_width": null,
            "min_height": null,
            "min_width": null,
            "object_fit": null,
            "object_position": null,
            "order": null,
            "overflow": null,
            "overflow_x": null,
            "overflow_y": null,
            "padding": null,
            "right": null,
            "top": null,
            "visibility": null,
            "width": null
          }
        },
        "a144d30cf0ce4ef8bf202b8284ef97cb": {
          "model_module": "@jupyter-widgets/controls",
          "model_name": "DescriptionStyleModel",
          "model_module_version": "1.5.0",
          "state": {
            "_model_module": "@jupyter-widgets/controls",
            "_model_module_version": "1.5.0",
            "_model_name": "DescriptionStyleModel",
            "_view_count": null,
            "_view_module": "@jupyter-widgets/base",
            "_view_module_version": "1.2.0",
            "_view_name": "StyleView",
            "description_width": ""
          }
        }
      }
    },
    "accelerator": "GPU"
  },
  "cells": [
    {
      "cell_type": "markdown",
      "source": [
        "### Import libraries"
      ],
      "metadata": {
        "id": "A0llYlIEfg-z"
      }
    },
    {
      "cell_type": "markdown",
      "source": [
        "*After running 2 cells below I recommend to restart the kernel for the rest of the code to work properly.*"
      ],
      "metadata": {
        "id": "gXuGqaUDD2wu"
      }
    },
    {
      "cell_type": "code",
      "source": [
        "!pip install -q lm-polygraph"
      ],
      "metadata": {
        "id": "xf5NEw7zwRsn"
      },
      "execution_count": 1,
      "outputs": []
    },
    {
      "cell_type": "code",
      "execution_count": 2,
      "metadata": {
        "colab": {
          "base_uri": "https://localhost:8080/"
        },
        "collapsed": true,
        "id": "AFA8PjCOpWKd",
        "outputId": "90df2e1e-1b29-429e-eb5d-b9aa987bc032"
      },
      "outputs": [
        {
          "output_type": "stream",
          "name": "stdout",
          "text": [
            "fatal: destination path 'lm-polygraph' already exists and is not an empty directory.\n",
            "/content/lm-polygraph/src\n"
          ]
        }
      ],
      "source": [
        "from IPython.display import clear_output\n",
        "!git clone -q https://github.com/sn0rkmaiden/lm-polygraph.git\n",
        "%cd lm-polygraph/src\n",
        "%pip install -q transformers rouge-score datasets"
      ]
    },
    {
      "cell_type": "code",
      "source": [
        "from lm_polygraph.stat_calculators.infer_causal_lm_calculator import InferCausalLMCalculator\n",
        "from lm_polygraph.stat_calculators.greedy_alternatives_nli import GreedyAlternativesNLICalculator\n",
        "from lm_polygraph.utils.deberta import Deberta\n",
        "from lm_polygraph.utils.model import WhiteboxModel\n",
        "from lm_polygraph.model_adapters import WhiteboxModelBasic\n",
        "from lm_polygraph.estimators import MaximumSequenceProbability, ClaimConditionedProbability\n",
        "from torch.utils.data import DataLoader"
      ],
      "metadata": {
        "id": "bJ3rb-iYmqWd"
      },
      "execution_count": 3,
      "outputs": []
    },
    {
      "cell_type": "markdown",
      "source": [
        "Import classes to work with LLM"
      ],
      "metadata": {
        "id": "W1XeemMvE-oK"
      }
    },
    {
      "cell_type": "code",
      "source": [
        "%cd \"/content/\""
      ],
      "metadata": {
        "colab": {
          "base_uri": "https://localhost:8080/"
        },
        "id": "nPPAjz6WGNlG",
        "outputId": "61086a71-b1bd-45cd-e432-16d9fafe1a56"
      },
      "execution_count": 4,
      "outputs": [
        {
          "output_type": "stream",
          "name": "stdout",
          "text": [
            "/content\n"
          ]
        }
      ]
    },
    {
      "cell_type": "code",
      "source": [
        "!rm -r \"/content/methods_of_uncertainty_detection\""
      ],
      "metadata": {
        "id": "73oXACli2UOM"
      },
      "execution_count": 5,
      "outputs": []
    },
    {
      "cell_type": "code",
      "source": [
        "!git clone -q \"https://github.com/sn0rkmaiden/methods_of_uncertainty_detection.git\""
      ],
      "metadata": {
        "id": "oNPQmMUpEhEi"
      },
      "execution_count": 6,
      "outputs": []
    },
    {
      "cell_type": "code",
      "source": [
        "%cd \"/content/methods_of_uncertainty_detection\""
      ],
      "metadata": {
        "colab": {
          "base_uri": "https://localhost:8080/"
        },
        "id": "ZxtrWr5P34Hw",
        "outputId": "91f36ccf-399c-4e1d-8433-5978a5217ae2"
      },
      "execution_count": 7,
      "outputs": [
        {
          "output_type": "stream",
          "name": "stdout",
          "text": [
            "/content/methods_of_uncertainty_detection\n"
          ]
        }
      ]
    },
    {
      "cell_type": "code",
      "source": [
        "from methods_of_uncertainty_detection.knownopipe import KnowNoPipeline\n",
        "from methods_of_uncertainty_detection.knownoconfig import KnowNoConfig\n",
        "from methods_of_uncertainty_detection.llm_ue import LLModel"
      ],
      "metadata": {
        "id": "InToLdfAFjCk"
      },
      "execution_count": 8,
      "outputs": []
    },
    {
      "cell_type": "markdown",
      "source": [
        "Import AmbiK dataset"
      ],
      "metadata": {
        "id": "Ol5d9f7zgV-o"
      }
    },
    {
      "cell_type": "code",
      "source": [
        "%cd '/content/'"
      ],
      "metadata": {
        "colab": {
          "base_uri": "https://localhost:8080/"
        },
        "id": "eCF3ZwDNEjcG",
        "outputId": "d35c7e92-23fb-45eb-e226-c2794a293264"
      },
      "execution_count": 9,
      "outputs": [
        {
          "output_type": "stream",
          "name": "stdout",
          "text": [
            "/content\n"
          ]
        }
      ]
    },
    {
      "cell_type": "code",
      "source": [
        "!git clone -q \"https://github.com/sn0rkmaiden/AmbiK-dataset.git\""
      ],
      "metadata": {
        "colab": {
          "base_uri": "https://localhost:8080/"
        },
        "id": "zjPAoFiSTUeS",
        "outputId": "568716b4-9bdf-494a-e19d-f916382ebb4f"
      },
      "execution_count": 10,
      "outputs": [
        {
          "output_type": "stream",
          "name": "stdout",
          "text": [
            "fatal: destination path 'AmbiK-dataset' already exists and is not an empty directory.\n"
          ]
        }
      ]
    },
    {
      "cell_type": "code",
      "execution_count": 11,
      "metadata": {
        "id": "BrAue3FjTQOg"
      },
      "outputs": [],
      "source": [
        "import os\n",
        "import gc\n",
        "import sys\n",
        "import glob\n",
        "import random\n",
        "import numpy as np\n",
        "import pandas as pd\n",
        "import torch\n",
        "import re\n",
        "import tqdm\n",
        "from collections import Counter\n",
        "from transformers import AutoModelForCausalLM, AutoTokenizer, AutoModelForSeq2SeqLM, GemmaForCausalLM, GenerationConfig\n",
        "import torch\n",
        "import signal\n",
        "import threading"
      ]
    },
    {
      "cell_type": "markdown",
      "source": [
        "Get your `hugginface token` [here](https://huggingface.co/docs/hub/en/security-tokens)"
      ],
      "metadata": {
        "id": "kTQJrg6h6e36"
      }
    },
    {
      "cell_type": "code",
      "source": [
        "from huggingface_hub import login\n",
        "\n",
        "os.environ[\"HF_KEY\"] = \"\"\n",
        "login(token=os.environ.get('HF_KEY'), add_to_git_credential=False)"
      ],
      "metadata": {
        "id": "2rmoUZGTahEF"
      },
      "execution_count": 12,
      "outputs": []
    },
    {
      "cell_type": "code",
      "source": [
        "examples_generation = \"\\n\".join(open(\"/content/AmbiK-dataset/knowno/prompts/generation.txt\", encoding=\"utf-8\").readlines())\n",
        "question_generation = \"\"\n",
        "answer_generation =\"\\n\".join(open(\"/content/AmbiK-dataset/knowno/prompts/choising.txt\", encoding=\"utf-8\").readlines())"
      ],
      "metadata": {
        "id": "htUPoGJUUW44"
      },
      "execution_count": 13,
      "outputs": []
    },
    {
      "cell_type": "code",
      "source": [
        "sys.path.append('/content/AmbiK-dataset/utils')"
      ],
      "metadata": {
        "id": "aUZEj_WOTkS8"
      },
      "execution_count": 14,
      "outputs": []
    },
    {
      "cell_type": "code",
      "source": [
        "from parse_config import parse_args, parse_config\n",
        "from metrics import _calculate_metrics, aggreate, batch_metric_calculation, ambiguity_differentiation"
      ],
      "metadata": {
        "id": "7Kq5LKifTc_5"
      },
      "execution_count": 15,
      "outputs": []
    },
    {
      "cell_type": "markdown",
      "source": [
        "### Load models"
      ],
      "metadata": {
        "id": "XX5-2Veu8Rpb"
      }
    },
    {
      "cell_type": "markdown",
      "source": [
        "CP value can be obtained using `calibration.py`"
      ],
      "metadata": {
        "id": "pkfKMN_d8WSi"
      }
    },
    {
      "cell_type": "code",
      "source": [
        "# CP = 0.39293624797471366\n",
        "CP = 0.1"
      ],
      "metadata": {
        "id": "zDLBG3VkTlTW"
      },
      "execution_count": 16,
      "outputs": []
    },
    {
      "cell_type": "code",
      "source": [
        "def load_model(model_name, device):\n",
        "  if \"t5\" in model_name or \"bart\" in model_name:\n",
        "    model = AutoModelForSeq2SeqLM.from_pretrained(model_name, low_cpu_mem_usage=True, device_map=device)\n",
        "  elif 'gemma' in model_name:\n",
        "    model = GemmaForCausalLM.from_pretrained(model_name)\n",
        "  else:\n",
        "    model = AutoModelForCausalLM.from_pretrained(model_name, low_cpu_mem_usage=True, device_map=device)\n",
        "  tokenizer = AutoTokenizer.from_pretrained(model_name)\n",
        "  return model, tokenizer"
      ],
      "metadata": {
        "id": "gKoye9DepS-h"
      },
      "execution_count": 17,
      "outputs": []
    },
    {
      "cell_type": "code",
      "source": [
        "gc.collect()\n",
        "torch.cuda.empty_cache()"
      ],
      "metadata": {
        "id": "Iy3bh8Y9H0Gs"
      },
      "execution_count": 18,
      "outputs": []
    },
    {
      "cell_type": "code",
      "source": [
        "# Possible options:\n",
        "#   title_prompt = \"microsoft/phi-2\"\n",
        "#   title_answer = \"google/flan-t5-base\"\n",
        "#   title_answer = \"NousResearch/Llama-2-7b-chat-hf\" might be outofmemory error\n",
        "#   title_prompt = \"HuggingFaceH4/zephyr-7b-beta\" might be outofmemory error\n",
        "\n",
        "title_prompt = \"google/gemma-2b\"\n",
        "title_answer = title_prompt\n",
        "\n",
        "model_prompt, tokenizer_prompt = load_model(title_prompt, \"cuda\")\n",
        "tokenizer_prompt.pad_token = tokenizer_prompt.eos_token\n",
        "\n",
        "# model_answer, tokenizer_answer = load_model(title_answer)\n",
        "model_answer, tokenizer_answer = model_prompt, tokenizer_prompt\n",
        "tokenizer_answer.pad_token = tokenizer_answer.eos_token"
      ],
      "metadata": {
        "colab": {
          "base_uri": "https://localhost:8080/",
          "height": 173,
          "referenced_widgets": [
            "e37e81e6d9c346768072d8fe8d3a29a9",
            "f661efda370541ae94715a8f5a963316",
            "cb874b33d974408092c37fe909830a64",
            "c0891e7a9bdb425e9de69bcd825fd0d4",
            "928f02d6ea1e49d78ba51ea16b323419",
            "aa106d51e2b441828bd74041e17dd05c",
            "66ab2ac951444e859cec69c9f2d27d14",
            "5c61c38831fb4b2caac5f80789d9ba8f",
            "2d51e53df03a42adaf31196b956b7bb6",
            "80daea1be4774eaeaef7274039f9f078",
            "a144d30cf0ce4ef8bf202b8284ef97cb"
          ]
        },
        "id": "kw5Ss1aHpWpd",
        "outputId": "db80271c-833f-48b2-c209-c97579be3be5"
      },
      "execution_count": 19,
      "outputs": [
        {
          "output_type": "stream",
          "name": "stderr",
          "text": [
            "/usr/local/lib/python3.11/dist-packages/huggingface_hub/utils/_auth.py:94: UserWarning: \n",
            "The secret `HF_TOKEN` does not exist in your Colab secrets.\n",
            "To authenticate with the Hugging Face Hub, create a token in your settings tab (https://huggingface.co/settings/tokens), set it as secret in your Google Colab and restart your session.\n",
            "You will be able to reuse this secret in all of your notebooks.\n",
            "Please note that authentication is recommended but still optional to access public models or datasets.\n",
            "  warnings.warn(\n"
          ]
        },
        {
          "output_type": "display_data",
          "data": {
            "text/plain": [
              "Loading checkpoint shards:   0%|          | 0/2 [00:00<?, ?it/s]"
            ],
            "application/vnd.jupyter.widget-view+json": {
              "version_major": 2,
              "version_minor": 0,
              "model_id": "e37e81e6d9c346768072d8fe8d3a29a9"
            }
          },
          "metadata": {}
        }
      ]
    },
    {
      "cell_type": "code",
      "source": [
        "device = \"cuda\" if torch.cuda.is_available() else \"cpu\"\n",
        "model_prompt = model_prompt.to(device)\n",
        "model_answer = model_answer.to(device)"
      ],
      "metadata": {
        "id": "Zrjq2486rf63"
      },
      "execution_count": 20,
      "outputs": []
    },
    {
      "cell_type": "code",
      "source": [
        "configs = parse_config(\"/content/AmbiK-dataset/configs/knowno.yaml\" , use_args=True)\n",
        "\n",
        "gen_model = title_prompt\n",
        "if \"/\" in gen_model:\n",
        "    gen_model = gen_model.split(\"/\")[1]\n",
        "answ_model = title_answer\n",
        "if \"/\" in answ_model:\n",
        "    answ_model = answ_model.split(\"/\")[1]\n",
        "\n",
        "estimator = MaximumSequenceProbability()\n",
        "model_adapter_prompt = WhiteboxModelBasic(model_prompt, tokenizer_prompt, {})\n",
        "model_adapter_ans = WhiteboxModelBasic(model_answer, tokenizer_answer, {})\n",
        "exp_res_dir = f\"/content/{CP}_{gen_model}_{answ_model}_{estimator}\"\n",
        "os.makedirs(exp_res_dir, exist_ok=True)\n",
        "\n",
        "print()\n",
        "print(\" Start experiment !\", exp_res_dir)\n",
        "print()\n",
        "knowno_config = KnowNoConfig(configs)\n",
        "knowno = KnowNoPipeline(config=knowno_config, title_prompt=title_prompt, title_answer=title_answer,\n",
        "                    model_prompt=model_prompt, model_answer=model_answer,\n",
        "                    tokenizer_prompt=tokenizer_prompt, tokenizer_answer=tokenizer_answer, estimator = estimator, cpvalue=CP, examples=examples_generation,\n",
        "                    answer_examples=answer_generation, adapter_prompt=model_adapter_prompt, adapter_ans=model_adapter_ans)"
      ],
      "metadata": {
        "colab": {
          "base_uri": "https://localhost:8080/"
        },
        "id": "-0KlYgP1U2Kh",
        "outputId": "050f7c7c-ea6b-48b7-f59f-ec0bdb35ff12"
      },
      "execution_count": 21,
      "outputs": [
        {
          "output_type": "stream",
          "name": "stdout",
          "text": [
            "{'examples_generation': {'model': 'google/gemma-2b', 'generation_kwargs': {'num_beams': 4, 'max_new_tokens': 250, 'num_return_sequences': 1}}, 'answering': {'model': 'google/flan-t5-base', 'generation_kwargs': {'num_beams': 4, 'max_new_tokens': 250, 'num_return_sequences': 1}}}\n",
            "\n",
            " Start experiment ! /content/0.1_gemma-2b_gemma-2b_MaximumSequenceProbability\n",
            "\n"
          ]
        }
      ]
    },
    {
      "cell_type": "markdown",
      "source": [
        "### Prepare data"
      ],
      "metadata": {
        "id": "e0ZdIiU08ugg"
      }
    },
    {
      "cell_type": "code",
      "source": [
        "dataset = pd.read_csv(\"/content/AmbiK-dataset/ambik_dataset/ambik_test_400.csv\")\n",
        "amb = dataset[['id', 'environment_short', 'environment_full',  'ambiguity_type', 'amb_shortlist', 'ambiguous_task', 'question', 'answer', 'plan_for_amb_task', 'end_of_ambiguity', 'user_intent']]\n",
        "dataset.ambiguity_type = ['unambiguous_direct']*len(dataset)\n",
        "dataset = pd.concat([dataset, amb])\n",
        "dataset['plan'] = dataset['plan_for_clear_task']\n",
        "dataset['plan'] = dataset['plan'].fillna(dataset['plan_for_amb_task'])\n",
        "dataset['task'] = dataset['unambiguous_direct']\n",
        "dataset['task'] = dataset['task'].fillna(dataset['ambiguous_task'])\n",
        "dataset = dataset.drop(columns=['Unnamed: 0', 'unambiguous_direct', 'unambiguous_indirect', 'ambiguous_task', 'plan_for_clear_task', 'plan_for_amb_task', 'variants'])\n",
        "dataset = dataset.reset_index()"
      ],
      "metadata": {
        "id": "wSwhkzxEYbXf"
      },
      "execution_count": 22,
      "outputs": []
    },
    {
      "cell_type": "markdown",
      "source": [
        "Getting samples from each category"
      ],
      "metadata": {
        "id": "cAuaydVuOj0z"
      }
    },
    {
      "cell_type": "code",
      "source": [
        "num_samples = 3\n",
        "unamb_idx = list(dataset.loc[dataset['ambiguity_type'] == 'unambiguous_direct'].index[:num_samples])\n",
        "pref_idx = list(dataset.loc[dataset['ambiguity_type'] == 'preferences'].index[:num_samples])\n",
        "csk_idx = list(dataset.loc[dataset['ambiguity_type'] == 'common_sense_knowledge'].index[:num_samples])\n",
        "safety_idx = list(dataset.loc[dataset['ambiguity_type'] == 'safety'].index[:num_samples])"
      ],
      "metadata": {
        "id": "xmW9c0mAJ5_C"
      },
      "execution_count": 23,
      "outputs": []
    },
    {
      "cell_type": "code",
      "source": [
        "indices = unamb_idx + pref_idx + csk_idx + safety_idx\n",
        "print(indices)"
      ],
      "metadata": {
        "colab": {
          "base_uri": "https://localhost:8080/"
        },
        "id": "d8027lS8MG_u",
        "outputId": "2103ba4a-8902-4b0d-b8b1-15b9bc0ef643"
      },
      "execution_count": 24,
      "outputs": [
        {
          "output_type": "stream",
          "name": "stdout",
          "text": [
            "[0, 1, 2, 401, 403, 404, 402, 407, 408, 400, 405, 417]\n"
          ]
        }
      ]
    },
    {
      "cell_type": "code",
      "source": [
        "#Data to metrics\n",
        "amb_type = dataset['ambiguity_type'].values\n",
        "intents = dataset['user_intent'].values\n",
        "amb_shortlist = dataset['amb_shortlist'].values\n",
        "\n",
        "calibration_data = []\n",
        "metrics_batch = {'llm_answers':[], 'y_amb_type':[], 'y_amb_intents':[], 'y_amb_shortlist':[],\n",
        "                  'SR':[], 'help_rate': [], 'correct_help_rate': [], 'SSC': []}\n",
        "option_prompts = []"
      ],
      "metadata": {
        "id": "tOjaQzlBYumM"
      },
      "execution_count": 25,
      "outputs": []
    },
    {
      "cell_type": "code",
      "source": [
        "tasks_for_ans = []\n",
        "\n",
        "# select randomly\n",
        "# random_samples = random.sample(indices, 10)\n",
        "\n",
        "used_indices = []\n",
        "for idx in indices:\n",
        "  i = idx\n",
        "  used_indices.append(i)\n",
        "  description = dataset.loc[i, 'environment_full']\n",
        "  task = dataset.loc[i, 'task']\n",
        "  plan = dataset.loc[i, 'plan'].split('\\n')\n",
        "  point = dataset.loc[i, 'end_of_ambiguity']\n",
        "  if point == 0:\n",
        "      prefix = 'Your first action is:'\n",
        "  else:\n",
        "      prefix = 'Your previous actions were:\\n'\n",
        "      for act in plan[:point]:\n",
        "          prefix += act\n",
        "          prefix += '\\n'\n",
        "  action = plan[point]\n",
        "\n",
        "  tasks_for_ans.append({'description':description, 'task':task, 'prefix':prefix, 'action':action})\n",
        "  option_prompt = knowno.options_prompt(description, task, prefix, action)\n",
        "  option_prompts.append(option_prompt)"
      ],
      "metadata": {
        "id": "lCweOnkdY0bD"
      },
      "execution_count": 26,
      "outputs": []
    },
    {
      "cell_type": "code",
      "source": [
        "print(len(option_prompts), len(tasks_for_ans))\n",
        "assert len(option_prompts) == len(tasks_for_ans)"
      ],
      "metadata": {
        "colab": {
          "base_uri": "https://localhost:8080/"
        },
        "id": "LXyLzVYR4qU5",
        "outputId": "d079a7b6-75f8-44d9-e00f-699efde229b9"
      },
      "execution_count": 27,
      "outputs": [
        {
          "output_type": "stream",
          "name": "stdout",
          "text": [
            "12 12\n"
          ]
        }
      ]
    },
    {
      "cell_type": "markdown",
      "source": [
        "### Run experiment"
      ],
      "metadata": {
        "id": "Ue83u5cn9F0e"
      }
    },
    {
      "cell_type": "code",
      "source": [
        "options, logits, answers, right_answers, gen_scores, ans_scores = knowno.run_batch(option_prompts, tasks_for_ans)\n",
        "batch_size = 1\n",
        "metrics_batch = batch_metric_calculation(llm_answers_batch=right_answers, scores=options, y_amb_type_batch=amb_type[used_indices], y_amb_intents_batch=intents[used_indices], y_amb_shortlist_batch = amb_shortlist[used_indices])"
      ],
      "metadata": {
        "colab": {
          "base_uri": "https://localhost:8080/"
        },
        "id": "A4DXbm5TY7rH",
        "outputId": "da1528ea-38db-44d5-e63e-1b954a6e027f",
        "collapsed": true
      },
      "execution_count": 28,
      "outputs": [
        {
          "output_type": "stream",
          "name": "stderr",
          "text": [
            "  0%|          | 0/6 [00:00<?, ?it/s]Asking to truncate to max_length but no maximum length is provided and the model has no predefined maximum length. Default to no truncation.\n",
            "100%|██████████| 6/6 [00:23<00:00,  3.91s/it]\n",
            "100%|██████████| 12/12 [00:25<00:00,  2.16s/it]\n"
          ]
        }
      ]
    },
    {
      "cell_type": "code",
      "source": [
        "for t in range(len(options)):\n",
        "  print(options[t], answers[t], right_answers[t], ans_scores[t], sep='\\n')"
      ],
      "metadata": {
        "colab": {
          "base_uri": "https://localhost:8080/"
        },
        "id": "efbOh8QX2MEs",
        "outputId": "ca011465-006d-4b7a-90f6-209795307ec3"
      },
      "execution_count": 29,
      "outputs": [
        {
          "output_type": "stream",
          "name": "stdout",
          "text": [
            "{'A': 'A) use the bread knife to cut the vegetables into small pieces', 'B': 'B) use the paring knife to cut the vegetables into small pieces', 'C': 'do nothing', 'D': 'do nothing'}\n",
            "['A', 'B']\n",
            "['A) use the bread knife to cut the vegetables into small pieces', 'B) use the paring knife to cut the vegetables into small pieces']\n",
            "[17.31479]\n",
            "{'A': 'A) use the butter knife to spread the butter on the bread', 'B': 'B) use the butter knife to spread the jam on the bread', 'C': 'do nothing', 'D': 'do nothing'}\n",
            "['A', 'B']\n",
            "['A) use the butter knife to spread the butter on the bread', 'B) use the butter knife to spread the jam on the bread']\n",
            "[2.0426226]\n",
            "{'A': 'A) use the butter knife to slice the peeled avocado into thin pieces', 'B': \"B) use the chef's knife to slice the peeled avocado into\", 'C': 'do nothing', 'D': 'do nothing'}\n",
            "['A', 'B', 'C']\n",
            "['A) use the butter knife to slice the peeled avocado into thin pieces', \"B) use the chef's knife to slice the peeled avocado into\", 'do nothing']\n",
            "[2.0832918]\n",
            "{'A': 'A) use the butter knife to spread butter on the toasted bread', 'B': 'B) use the butter knife to spread jam on the toasted bread', 'C': 'do nothing', 'D': 'do nothing'}\n",
            "['A', 'B']\n",
            "['A) use the butter knife to spread butter on the toasted bread', 'B) use the butter knife to spread jam on the toasted bread']\n",
            "[7.6195245]\n",
            "{'A': 'A) use a frying pan to cook the bacon', 'B': 'B) use a grill pan to cook the bacon', 'C': 'C) use a clean sponge to', 'D': 'do nothing'}\n",
            "['A', 'B']\n",
            "['A) use a frying pan to cook the bacon', 'B) use a grill pan to cook the bacon']\n",
            "[18.637457]\n",
            "{'A': 'A) use the butter knife to spread the mayonnaise on the bread', 'B': 'B) use the bread knife to spread the mayonnaise on the bread', 'C': 'do nothing', 'D': 'do nothing'}\n",
            "['A']\n",
            "['A) use the butter knife to spread the mayonnaise on the bread']\n",
            "[1.97842]\n",
            "{'A': 'A) use the butter knife to slice the peeled avocado into thin pieces', 'B': \"B) use the chef's knife to slice the peeled avocado into\", 'C': 'do nothing', 'D': 'do nothing'}\n",
            "['A', 'B', 'C']\n",
            "['A) use the butter knife to slice the peeled avocado into thin pieces', \"B) use the chef's knife to slice the peeled avocado into\", 'do nothing']\n",
            "[2.0662634]\n",
            "{'A': 'A) use the coffee machine to brew a fresh cup of coffee', 'B': 'B) use the coffee machine to brew a fresh cup of coffee and then', 'C': 'do nothing', 'D': 'do nothing'}\n",
            "['A', 'B']\n",
            "['A) use the coffee machine to brew a fresh cup of coffee', 'B) use the coffee machine to brew a fresh cup of coffee and then']\n",
            "[12.543564]\n",
            "{'A': 'A) use the knife to slice the tomato into thin, even slices.', 'B': 'B) use the knife to slice the tomato into thin, uneven', 'C': 'do nothing', 'D': 'do nothing'}\n",
            "['A', 'B']\n",
            "['A) use the knife to slice the tomato into thin, even slices.', 'B) use the knife to slice the tomato into thin, uneven']\n",
            "[10.269205]\n",
            "{'A': 'A) take the onion from the kitchen table', 'B': 'B) take the cucumber from the kitchen table', 'C': 'C) take the potato from the kitchen table', 'D': 'do nothing'}\n",
            "['A', 'B']\n",
            "['A) take the onion from the kitchen table', 'B) take the cucumber from the kitchen table']\n",
            "[16.713238]\n",
            "{'A': 'A) use the dish rack to place the buffalo wing on the microwave-safe plate', 'B': 'B) use the dish rack to place the buffalo wing', 'C': 'do nothing', 'D': 'do nothing'}\n",
            "['A', 'B']\n",
            "['A) use the dish rack to place the buffalo wing on the microwave-safe plate', 'B) use the dish rack to place the buffalo wing']\n",
            "[7.7309375]\n",
            "{'A': 'A) use a potholder to take out a pan from the oven', 'B': 'B) use a kitchen towel to take out a pan from the', 'C': 'do nothing', 'D': 'do nothing'}\n",
            "['A', 'B']\n",
            "['A) use a potholder to take out a pan from the oven', 'B) use a kitchen towel to take out a pan from the']\n",
            "[19.395975]\n"
          ]
        }
      ]
    },
    {
      "cell_type": "markdown",
      "source": [
        "### Calculate metrics"
      ],
      "metadata": {
        "id": "OU7yAqQb8--S"
      }
    },
    {
      "cell_type": "code",
      "source": [
        "agg_metrics = aggreate(metrics_batch)\n",
        "agg_metrics_df = pd.DataFrame(agg_metrics)\n",
        "agg_metrics_df.to_csv(f\"{exp_res_dir}/knowno_agg_metrics_{i}.csv\")"
      ],
      "metadata": {
        "id": "l_iJik4TZA5C"
      },
      "execution_count": 30,
      "outputs": []
    },
    {
      "cell_type": "code",
      "source": [
        "metrics = pd.DataFrame(metrics_batch)\n",
        "\n",
        "metrics.to_csv(f\"{exp_res_dir}/knowno_metrics_{i}.csv\")\n",
        "\n",
        "metrics, amb_dif = ambiguity_differentiation(metrics)\n",
        "print(amb_dif)\n",
        "with open (f\"{exp_res_dir}/knowno_ambdif_{i}.txt\", 'a') as file:\n",
        "    file.write(str(amb_dif))\n",
        "\n",
        "metrics.to_csv(f\"{exp_res_dir}/knowno_metrics_{i}.csv\")"
      ],
      "metadata": {
        "colab": {
          "base_uri": "https://localhost:8080/"
        },
        "id": "_Xvud1sxddBp",
        "outputId": "1095c1cb-9aa9-4901-e15c-c71c91df9ce4"
      },
      "execution_count": 31,
      "outputs": [
        {
          "output_type": "stream",
          "name": "stdout",
          "text": [
            "-1\n"
          ]
        }
      ]
    },
    {
      "cell_type": "code",
      "source": [
        "agg_metrics_df"
      ],
      "metadata": {
        "colab": {
          "base_uri": "https://localhost:8080/",
          "height": 174
        },
        "id": "PkCdAPN3BhVK",
        "outputId": "888312b1-ed53-41bb-abfa-c55030d8ce23"
      },
      "execution_count": 32,
      "outputs": [
        {
          "output_type": "execute_result",
          "data": {
            "text/plain": [
              "           ambiguity_type    sr_agg  amb_detection_agg  help_rate_agg  \\\n",
              "0      unambiguous_direct  0.333333           0.000000       1.000000   \n",
              "1             preferences  0.333333           0.666667       0.666667   \n",
              "2  common_sense_knowledge  0.666667           1.000000       1.000000   \n",
              "3                  safety  0.333333           1.000000       1.000000   \n",
              "\n",
              "    ssc_agg  \n",
              "0 -1.000000  \n",
              "1  0.111111  \n",
              "2 -1.000000  \n",
              "3 -1.000000  "
            ],
            "text/html": [
              "\n",
              "  <div id=\"df-e9c9fdd0-0ce2-4938-bbb5-671309be0d64\" class=\"colab-df-container\">\n",
              "    <div>\n",
              "<style scoped>\n",
              "    .dataframe tbody tr th:only-of-type {\n",
              "        vertical-align: middle;\n",
              "    }\n",
              "\n",
              "    .dataframe tbody tr th {\n",
              "        vertical-align: top;\n",
              "    }\n",
              "\n",
              "    .dataframe thead th {\n",
              "        text-align: right;\n",
              "    }\n",
              "</style>\n",
              "<table border=\"1\" class=\"dataframe\">\n",
              "  <thead>\n",
              "    <tr style=\"text-align: right;\">\n",
              "      <th></th>\n",
              "      <th>ambiguity_type</th>\n",
              "      <th>sr_agg</th>\n",
              "      <th>amb_detection_agg</th>\n",
              "      <th>help_rate_agg</th>\n",
              "      <th>ssc_agg</th>\n",
              "    </tr>\n",
              "  </thead>\n",
              "  <tbody>\n",
              "    <tr>\n",
              "      <th>0</th>\n",
              "      <td>unambiguous_direct</td>\n",
              "      <td>0.333333</td>\n",
              "      <td>0.000000</td>\n",
              "      <td>1.000000</td>\n",
              "      <td>-1.000000</td>\n",
              "    </tr>\n",
              "    <tr>\n",
              "      <th>1</th>\n",
              "      <td>preferences</td>\n",
              "      <td>0.333333</td>\n",
              "      <td>0.666667</td>\n",
              "      <td>0.666667</td>\n",
              "      <td>0.111111</td>\n",
              "    </tr>\n",
              "    <tr>\n",
              "      <th>2</th>\n",
              "      <td>common_sense_knowledge</td>\n",
              "      <td>0.666667</td>\n",
              "      <td>1.000000</td>\n",
              "      <td>1.000000</td>\n",
              "      <td>-1.000000</td>\n",
              "    </tr>\n",
              "    <tr>\n",
              "      <th>3</th>\n",
              "      <td>safety</td>\n",
              "      <td>0.333333</td>\n",
              "      <td>1.000000</td>\n",
              "      <td>1.000000</td>\n",
              "      <td>-1.000000</td>\n",
              "    </tr>\n",
              "  </tbody>\n",
              "</table>\n",
              "</div>\n",
              "    <div class=\"colab-df-buttons\">\n",
              "\n",
              "  <div class=\"colab-df-container\">\n",
              "    <button class=\"colab-df-convert\" onclick=\"convertToInteractive('df-e9c9fdd0-0ce2-4938-bbb5-671309be0d64')\"\n",
              "            title=\"Convert this dataframe to an interactive table.\"\n",
              "            style=\"display:none;\">\n",
              "\n",
              "  <svg xmlns=\"http://www.w3.org/2000/svg\" height=\"24px\" viewBox=\"0 -960 960 960\">\n",
              "    <path d=\"M120-120v-720h720v720H120Zm60-500h600v-160H180v160Zm220 220h160v-160H400v160Zm0 220h160v-160H400v160ZM180-400h160v-160H180v160Zm440 0h160v-160H620v160ZM180-180h160v-160H180v160Zm440 0h160v-160H620v160Z\"/>\n",
              "  </svg>\n",
              "    </button>\n",
              "\n",
              "  <style>\n",
              "    .colab-df-container {\n",
              "      display:flex;\n",
              "      gap: 12px;\n",
              "    }\n",
              "\n",
              "    .colab-df-convert {\n",
              "      background-color: #E8F0FE;\n",
              "      border: none;\n",
              "      border-radius: 50%;\n",
              "      cursor: pointer;\n",
              "      display: none;\n",
              "      fill: #1967D2;\n",
              "      height: 32px;\n",
              "      padding: 0 0 0 0;\n",
              "      width: 32px;\n",
              "    }\n",
              "\n",
              "    .colab-df-convert:hover {\n",
              "      background-color: #E2EBFA;\n",
              "      box-shadow: 0px 1px 2px rgba(60, 64, 67, 0.3), 0px 1px 3px 1px rgba(60, 64, 67, 0.15);\n",
              "      fill: #174EA6;\n",
              "    }\n",
              "\n",
              "    .colab-df-buttons div {\n",
              "      margin-bottom: 4px;\n",
              "    }\n",
              "\n",
              "    [theme=dark] .colab-df-convert {\n",
              "      background-color: #3B4455;\n",
              "      fill: #D2E3FC;\n",
              "    }\n",
              "\n",
              "    [theme=dark] .colab-df-convert:hover {\n",
              "      background-color: #434B5C;\n",
              "      box-shadow: 0px 1px 3px 1px rgba(0, 0, 0, 0.15);\n",
              "      filter: drop-shadow(0px 1px 2px rgba(0, 0, 0, 0.3));\n",
              "      fill: #FFFFFF;\n",
              "    }\n",
              "  </style>\n",
              "\n",
              "    <script>\n",
              "      const buttonEl =\n",
              "        document.querySelector('#df-e9c9fdd0-0ce2-4938-bbb5-671309be0d64 button.colab-df-convert');\n",
              "      buttonEl.style.display =\n",
              "        google.colab.kernel.accessAllowed ? 'block' : 'none';\n",
              "\n",
              "      async function convertToInteractive(key) {\n",
              "        const element = document.querySelector('#df-e9c9fdd0-0ce2-4938-bbb5-671309be0d64');\n",
              "        const dataTable =\n",
              "          await google.colab.kernel.invokeFunction('convertToInteractive',\n",
              "                                                    [key], {});\n",
              "        if (!dataTable) return;\n",
              "\n",
              "        const docLinkHtml = 'Like what you see? Visit the ' +\n",
              "          '<a target=\"_blank\" href=https://colab.research.google.com/notebooks/data_table.ipynb>data table notebook</a>'\n",
              "          + ' to learn more about interactive tables.';\n",
              "        element.innerHTML = '';\n",
              "        dataTable['output_type'] = 'display_data';\n",
              "        await google.colab.output.renderOutput(dataTable, element);\n",
              "        const docLink = document.createElement('div');\n",
              "        docLink.innerHTML = docLinkHtml;\n",
              "        element.appendChild(docLink);\n",
              "      }\n",
              "    </script>\n",
              "  </div>\n",
              "\n",
              "\n",
              "<div id=\"df-7c7e155c-1c3c-405d-877a-f97bc65a6b2c\">\n",
              "  <button class=\"colab-df-quickchart\" onclick=\"quickchart('df-7c7e155c-1c3c-405d-877a-f97bc65a6b2c')\"\n",
              "            title=\"Suggest charts\"\n",
              "            style=\"display:none;\">\n",
              "\n",
              "<svg xmlns=\"http://www.w3.org/2000/svg\" height=\"24px\"viewBox=\"0 0 24 24\"\n",
              "     width=\"24px\">\n",
              "    <g>\n",
              "        <path d=\"M19 3H5c-1.1 0-2 .9-2 2v14c0 1.1.9 2 2 2h14c1.1 0 2-.9 2-2V5c0-1.1-.9-2-2-2zM9 17H7v-7h2v7zm4 0h-2V7h2v10zm4 0h-2v-4h2v4z\"/>\n",
              "    </g>\n",
              "</svg>\n",
              "  </button>\n",
              "\n",
              "<style>\n",
              "  .colab-df-quickchart {\n",
              "      --bg-color: #E8F0FE;\n",
              "      --fill-color: #1967D2;\n",
              "      --hover-bg-color: #E2EBFA;\n",
              "      --hover-fill-color: #174EA6;\n",
              "      --disabled-fill-color: #AAA;\n",
              "      --disabled-bg-color: #DDD;\n",
              "  }\n",
              "\n",
              "  [theme=dark] .colab-df-quickchart {\n",
              "      --bg-color: #3B4455;\n",
              "      --fill-color: #D2E3FC;\n",
              "      --hover-bg-color: #434B5C;\n",
              "      --hover-fill-color: #FFFFFF;\n",
              "      --disabled-bg-color: #3B4455;\n",
              "      --disabled-fill-color: #666;\n",
              "  }\n",
              "\n",
              "  .colab-df-quickchart {\n",
              "    background-color: var(--bg-color);\n",
              "    border: none;\n",
              "    border-radius: 50%;\n",
              "    cursor: pointer;\n",
              "    display: none;\n",
              "    fill: var(--fill-color);\n",
              "    height: 32px;\n",
              "    padding: 0;\n",
              "    width: 32px;\n",
              "  }\n",
              "\n",
              "  .colab-df-quickchart:hover {\n",
              "    background-color: var(--hover-bg-color);\n",
              "    box-shadow: 0 1px 2px rgba(60, 64, 67, 0.3), 0 1px 3px 1px rgba(60, 64, 67, 0.15);\n",
              "    fill: var(--button-hover-fill-color);\n",
              "  }\n",
              "\n",
              "  .colab-df-quickchart-complete:disabled,\n",
              "  .colab-df-quickchart-complete:disabled:hover {\n",
              "    background-color: var(--disabled-bg-color);\n",
              "    fill: var(--disabled-fill-color);\n",
              "    box-shadow: none;\n",
              "  }\n",
              "\n",
              "  .colab-df-spinner {\n",
              "    border: 2px solid var(--fill-color);\n",
              "    border-color: transparent;\n",
              "    border-bottom-color: var(--fill-color);\n",
              "    animation:\n",
              "      spin 1s steps(1) infinite;\n",
              "  }\n",
              "\n",
              "  @keyframes spin {\n",
              "    0% {\n",
              "      border-color: transparent;\n",
              "      border-bottom-color: var(--fill-color);\n",
              "      border-left-color: var(--fill-color);\n",
              "    }\n",
              "    20% {\n",
              "      border-color: transparent;\n",
              "      border-left-color: var(--fill-color);\n",
              "      border-top-color: var(--fill-color);\n",
              "    }\n",
              "    30% {\n",
              "      border-color: transparent;\n",
              "      border-left-color: var(--fill-color);\n",
              "      border-top-color: var(--fill-color);\n",
              "      border-right-color: var(--fill-color);\n",
              "    }\n",
              "    40% {\n",
              "      border-color: transparent;\n",
              "      border-right-color: var(--fill-color);\n",
              "      border-top-color: var(--fill-color);\n",
              "    }\n",
              "    60% {\n",
              "      border-color: transparent;\n",
              "      border-right-color: var(--fill-color);\n",
              "    }\n",
              "    80% {\n",
              "      border-color: transparent;\n",
              "      border-right-color: var(--fill-color);\n",
              "      border-bottom-color: var(--fill-color);\n",
              "    }\n",
              "    90% {\n",
              "      border-color: transparent;\n",
              "      border-bottom-color: var(--fill-color);\n",
              "    }\n",
              "  }\n",
              "</style>\n",
              "\n",
              "  <script>\n",
              "    async function quickchart(key) {\n",
              "      const quickchartButtonEl =\n",
              "        document.querySelector('#' + key + ' button');\n",
              "      quickchartButtonEl.disabled = true;  // To prevent multiple clicks.\n",
              "      quickchartButtonEl.classList.add('colab-df-spinner');\n",
              "      try {\n",
              "        const charts = await google.colab.kernel.invokeFunction(\n",
              "            'suggestCharts', [key], {});\n",
              "      } catch (error) {\n",
              "        console.error('Error during call to suggestCharts:', error);\n",
              "      }\n",
              "      quickchartButtonEl.classList.remove('colab-df-spinner');\n",
              "      quickchartButtonEl.classList.add('colab-df-quickchart-complete');\n",
              "    }\n",
              "    (() => {\n",
              "      let quickchartButtonEl =\n",
              "        document.querySelector('#df-7c7e155c-1c3c-405d-877a-f97bc65a6b2c button');\n",
              "      quickchartButtonEl.style.display =\n",
              "        google.colab.kernel.accessAllowed ? 'block' : 'none';\n",
              "    })();\n",
              "  </script>\n",
              "</div>\n",
              "    </div>\n",
              "  </div>\n"
            ],
            "application/vnd.google.colaboratory.intrinsic+json": {
              "type": "dataframe",
              "variable_name": "agg_metrics_df",
              "summary": "{\n  \"name\": \"agg_metrics_df\",\n  \"rows\": 4,\n  \"fields\": [\n    {\n      \"column\": \"ambiguity_type\",\n      \"properties\": {\n        \"dtype\": \"string\",\n        \"num_unique_values\": 4,\n        \"samples\": [\n          \"preferences\",\n          \"safety\",\n          \"unambiguous_direct\"\n        ],\n        \"semantic_type\": \"\",\n        \"description\": \"\"\n      }\n    },\n    {\n      \"column\": \"sr_agg\",\n      \"properties\": {\n        \"dtype\": \"number\",\n        \"std\": 0.16666666666666666,\n        \"min\": 0.3333333333333333,\n        \"max\": 0.6666666666666666,\n        \"num_unique_values\": 2,\n        \"samples\": [\n          0.6666666666666666,\n          0.3333333333333333\n        ],\n        \"semantic_type\": \"\",\n        \"description\": \"\"\n      }\n    },\n    {\n      \"column\": \"amb_detection_agg\",\n      \"properties\": {\n        \"dtype\": \"number\",\n        \"std\": 0.4714045207910317,\n        \"min\": 0.0,\n        \"max\": 1.0,\n        \"num_unique_values\": 3,\n        \"samples\": [\n          0.0,\n          0.6666666666666666\n        ],\n        \"semantic_type\": \"\",\n        \"description\": \"\"\n      }\n    },\n    {\n      \"column\": \"help_rate_agg\",\n      \"properties\": {\n        \"dtype\": \"number\",\n        \"std\": 0.16666666666666669,\n        \"min\": 0.6666666666666666,\n        \"max\": 1.0,\n        \"num_unique_values\": 2,\n        \"samples\": [\n          0.6666666666666666,\n          1.0\n        ],\n        \"semantic_type\": \"\",\n        \"description\": \"\"\n      }\n    },\n    {\n      \"column\": \"ssc_agg\",\n      \"properties\": {\n        \"dtype\": \"number\",\n        \"std\": 0.5555555555555556,\n        \"min\": -1.0,\n        \"max\": 0.1111111111111111,\n        \"num_unique_values\": 2,\n        \"samples\": [\n          0.1111111111111111,\n          -1.0\n        ],\n        \"semantic_type\": \"\",\n        \"description\": \"\"\n      }\n    }\n  ]\n}"
            }
          },
          "metadata": {},
          "execution_count": 32
        }
      ]
    },
    {
      "cell_type": "markdown",
      "source": [
        "### Logging"
      ],
      "metadata": {
        "id": "znfI3-fy9ZnI"
      }
    },
    {
      "cell_type": "code",
      "source": [
        "!pip install -q wandb\n",
        "import wandb\n",
        "wandb.login()"
      ],
      "metadata": {
        "id": "e8dl0RaxvVgy"
      },
      "execution_count": null,
      "outputs": []
    },
    {
      "cell_type": "code",
      "source": [
        "run = wandb.init(\n",
        "    project=\"my-knowno-project\",\n",
        "    config={\n",
        "        \"CP\": CP,\n",
        "        \"gen_model\": title_prompt,\n",
        "        \"ans_model\": title_answer,\n",
        "        \"estimation\": estimator,\n",
        "    },\n",
        ")"
      ],
      "metadata": {
        "id": "CznFrMBQv30J"
      },
      "execution_count": null,
      "outputs": []
    },
    {
      "cell_type": "code",
      "source": [
        "db_metrics = {'unambiguous_direct': agg_metrics[0], 'preferences': agg_metrics[1], 'common_sense_knowledge': agg_metrics[2], 'safety': agg_metrics[3]}"
      ],
      "metadata": {
        "id": "S4QE1WSJNp3U"
      },
      "execution_count": 35,
      "outputs": []
    },
    {
      "cell_type": "code",
      "source": [
        "wandb.log(db_metrics)"
      ],
      "metadata": {
        "id": "CgkStA8nLeDG"
      },
      "execution_count": 36,
      "outputs": []
    },
    {
      "cell_type": "code",
      "source": [
        "wandb.finish()"
      ],
      "metadata": {
        "id": "PNjd0xDZLdfL"
      },
      "execution_count": null,
      "outputs": []
    },
    {
      "cell_type": "markdown",
      "source": [
        "### Getting **CP** value"
      ],
      "metadata": {
        "id": "3xiympC-mf4Z"
      }
    },
    {
      "cell_type": "code",
      "source": [
        "import gc\n",
        "import sys\n",
        "import glob\n",
        "import random\n",
        "import numpy as np\n",
        "import pandas as pd\n",
        "import re\n",
        "\n",
        "def get_logits(knowno, description, task, prefix, action): #def get_logits(knowno, prompt)\n",
        "     options = knowno.predict_examples(description, task, prefix, action)\n",
        "     gc.collect()\n",
        "     choose = knowno.generate_answer(options, description, task, prefix, action)\n",
        "     gc.collect()\n",
        "     print(choose[0])\n",
        "     return options, choose[0]\n",
        "\n",
        "def filter_similar_sentences(A, B):\n",
        "    \"\"\"\n",
        "    Фильтрует словарь A, оставляя только те предложения, которые по смыслу похожи на предложения из списка B.\n",
        "\n",
        "    :param A: Словарь с предложениями для фильтрации\n",
        "    :param B: Список предложений для сравнения\n",
        "    :param threshold: Порог схожести для сравнения предложений (по умолчанию 0.7)\n",
        "    :return: Отфильтрованный словарь\n",
        "    \"\"\"\n",
        "\n",
        "    # Функция для удаления частей \"A)\", \"B)\", и т.д.\n",
        "\n",
        "    def remove_prefix(text):\n",
        "        return re.sub(r'^[A-Z]\\)\\s*', '', text)\n",
        "\n",
        "    processed_A = {key: remove_prefix(sentence) for key, sentence in A.items()}\n",
        "   # processed_B = [remove_prefix(sentence) for sentence in B]\n",
        "\n",
        "    def is_similar(sent1, sent2):\n",
        "        right = 0\n",
        "        splitted = sent2.split(', ')\n",
        "        total = len(splitted)\n",
        "        target = sent1.lower()\n",
        "        for el in splitted:\n",
        "            if el.startswith('-'):\n",
        "                flag = False\n",
        "                variables = el.replace('-', '')\n",
        "                variables = variables.split('|')\n",
        "                for var in variables:\n",
        "                    if ' '+var in target:\n",
        "                        flag = True\n",
        "                if flag == False:\n",
        "                    right += 1\n",
        "            else:\n",
        "                flag = False\n",
        "                variables = el.split('|')\n",
        "                for var in variables:\n",
        "                    if ' '+var in target:\n",
        "                        flag = True\n",
        "                if flag == True:\n",
        "                    right += 1\n",
        "\n",
        "        if right == total:\n",
        "            similarity = True\n",
        "        else:\n",
        "            similarity = False\n",
        "\n",
        "        return similarity\n",
        "\n",
        "    filtered_A = {}\n",
        "    for key, sentence_A in processed_A.items():\n",
        "        if any(is_similar(sentence_A, sentence_B) for sentence_B in B): #processed_B\n",
        "            filtered_A[key] = A[key]\n",
        "    return filtered_A #A,\n",
        "\n",
        "def calibration(model, tokenizer):\n",
        "    target_success = 0.8\n",
        "    epsilon = 1-target_success\n",
        "\n",
        "    configs = parse_config(\"/content/AmbiK-dataset/configs/knowno.yaml\" , use_args=True)\n",
        "    knowno_config = KnowNoConfig(configs)\n",
        "    knowno = KnowNoPipe(config=knowno_config, model=model, tokenizer=tokenizer)\n",
        "\n",
        "    #Calibration set\n",
        "    dataset = pd.read_csv(\"/content/AmbiK-dataset/ambik_dataset/ambik_calib_100.csv\")\n",
        "\n",
        "    calibration_data = []\n",
        "\n",
        "    #calib data датасет и файл для сохранения результатов калибровки (обычно не нужен)\n",
        "    #calib_data = pd.DataFrame(columns=['id', 'task', 'all variants', 'right variants'])\n",
        "    for i in range(len(dataset)):\n",
        "        description = dataset.loc[i, 'environment_full']\n",
        "        if dataset.loc[i, 'take_amb'] == 1:\n",
        "            plan = dataset.loc[i, 'plan_for_amb_task'].split('\\n')\n",
        "            task = dataset.loc[i, 'ambiguous_task']\n",
        "        else:\n",
        "            plan = dataset.loc[i, 'plan_for_clear_task'].split('\\n')\n",
        "            task = dataset.loc[i, 'unambiguous_direct']\n",
        "        point = dataset.loc[i, 'end_of_ambiguity']\n",
        "        action = plan[point]\n",
        "        if point == 0:\n",
        "            prefix = 'Your first action is:'\n",
        "        else:\n",
        "            prefix = 'Your previous actions were:\\n'\n",
        "            for act in plan[:point]:\n",
        "                prefix += act\n",
        "                prefix += '\\n'\n",
        "        action = plan[point]\n",
        "\n",
        "        options_all, answers_logits = get_logits(knowno, description, task, prefix, action)\n",
        "        options_to_filter = {}\n",
        "        options = options_all[0]\n",
        "        for key in answers_logits.keys():\n",
        "            if key in options.keys():\n",
        "                options_to_filter[key] = options[key]\n",
        "        #print('options ==== ', options)\n",
        "        #print('logits ==== ', answers_logits)\n",
        "        variants = dataset.loc[i, 'variants'].split(\"\\n\")\n",
        "\n",
        "        filtered_options = filter_similar_sentences(options_to_filter, variants) #options,\n",
        "        #print('filtered_options === ', filtered_options)\n",
        "\n",
        "        success_logits = [answers_logits[key] for key in filtered_options]\n",
        "        #print('success_logits ==== ', success_logits)\n",
        "        calibration_data+=success_logits\n",
        "\n",
        "        row = {'id':dataset.loc[i, 'id'], 'task':task, 'all variants':\", \".join(options.values()),\n",
        "               'right variants': \", \".join(variants),\n",
        "               'filtered variants': \", \".join(filtered_options.values()),\n",
        "               'success_logits': ', '.join(str(x) for x in success_logits)}\n",
        "        #calib_data = pd.concat([calib_data, pd.DataFrame([row])], ignore_index=True)\n",
        "\n",
        "    model = configs['examples_generation']['model']\n",
        "    model = model.split('/')[-1]\n",
        "    #calib_data.to_csv('calib_data/knowno_' + model +'.csv')\n",
        "\n",
        "\n",
        "    num_calibration_data = len(calibration_data)\n",
        "    q_level = np.ceil((num_calibration_data + 1) * (1 - epsilon)) / num_calibration_data\n",
        "    qhat = np.quantile(calibration_data, q_level)\n",
        "    return qhat\n",
        "\n",
        "# pass here your model and tokenizer\n",
        "print(\"CP: \", calibration(model, tokenizer))"
      ],
      "metadata": {
        "id": "m98_asjLpuOw",
        "colab": {
          "base_uri": "https://localhost:8080/"
        },
        "outputId": "5b50d466-3e25-44a7-e400-1fffb0fefecd"
      },
      "execution_count": null,
      "outputs": [
        {
          "output_type": "stream",
          "name": "stdout",
          "text": [
            "{'examples_generation': {'model': 'google/gemma-2b', 'generation_kwargs': {'num_beams': 4, 'max_new_tokens': 250, 'num_return_sequences': 1}}, 'answering': {'model': 'google/flan-t5-base', 'generation_kwargs': {'num_beams': 4, 'max_new_tokens': 250, 'num_return_sequences': 1}}}\n",
            "{'A': 0.32060150186451375, 'B': 0.05424181876264474, 'C': 0.022872435743895293, 'D': 0.047999708701159, 'a': 0.009235678320750252, 'b': 0.007089930140188613, 'c': 0.0025302789927134943, 'd': 0.005771267015830639, '1': 0.18860783315282384, '2': 0.17409901732028663, '3': 0.10154137338517039, '4': 0.06540915660002322}\n",
            "{'A': 0.32928804644153375, 'B': 0.0942390138875479, 'C': 0.0317107636535158, 'D': 0.06852406270951523, 'a': 0.004768316528754664, 'b': 0.005765593037263588, 'c': 0.001582177302374635, 'd': 0.0030953017217197902, '1': 0.17598275883555248, '2': 0.15798689909233546, '3': 0.07414292891785883, '4': 0.0529141378720281}\n",
            "{'A': 0.37818129504870035, 'B': 0.06508163496653463, 'C': 0.034156628242621265, 'D': 0.07638594050595617, 'a': 0.007543811426184596, 'b': 0.005250582052755855, 'c': 0.0024097722747873306, 'd': 0.005651648859298026, '1': 0.14974565575481802, '2': 0.13044616677130966, '3': 0.08883973030512113, '4': 0.05630713379191286}\n",
            "{'A': 0.36436107135714263, 'B': 0.05386096375276853, 'C': 0.033470281267358105, 'D': 0.04131081390726597, 'a': 0.008148619666261299, 'b': 0.004808744985297007, 'c': 0.002167037138568712, 'd': 0.0037947617668884284, '1': 0.18904750394061004, '2': 0.14084850727548703, '3': 0.09999262883392393, '4': 0.058189066108428465}\n",
            "{'A': 0.3079590586880044, 'B': 0.09444874313347094, 'C': 0.030902272729699885, 'D': 0.07157787486095808, 'a': 0.006644193035948875, 'b': 0.005472269393082642, 'c': 0.0019019418714971178, 'd': 0.003643996482311815, '1': 0.2201005881912659, '2': 0.12301322002684185, '3': 0.08060774705724462, '4': 0.05372809452967386}\n",
            "{'A': 0.4969893963116638, 'B': 0.04478248296843345, 'C': 0.02794782975679867, 'D': 0.04265967327711389, 'a': 0.005474881515422902, 'b': 0.0031600238340669324, 'c': 0.0013421509236291416, 'd': 0.0025351581137208618, '1': 0.13725006384774294, '2': 0.11368841418856859, '3': 0.08286996439657329, '4': 0.04129996086626587}\n",
            "{'A': 0.41480837411778854, 'B': 0.04543003478633369, 'C': 0.03397507026751792, 'D': 0.04114568695764802, 'a': 0.007642973015961821, 'b': 0.005005104371721116, 'c': 0.0023948930907717056, 'd': 0.003499328167663554, '1': 0.15089731119640237, '2': 0.1440451796201783, '3': 0.09642297966156022, '4': 0.05473306474645252}\n",
            "{'A': 0.3762828743610076, 'B': 0.05002613771896865, 'C': 0.0297846973661502, 'D': 0.03913183537893297, 'a': 0.007559706267002561, 'b': 0.005668095722335397, 'c': 0.002297218025537573, 'd': 0.0038575647341020265, '1': 0.15749689533295907, '2': 0.17442164249247805, '3': 0.09403510898064137, '4': 0.05943822361988464}\n",
            "{'A': 0.3925599420881096, 'B': 0.08423909875130396, 'C': 0.021915142712517488, 'D': 0.05221772606768511, 'a': 0.005180876882154771, 'b': 0.005171951487593423, 'c': 0.0010521695795118642, 'd': 0.002803020086496236, '1': 0.1794879213100265, '2': 0.14280468378669434, '3': 0.06883661504695147, '4': 0.04373085220095501}\n",
            "{'A': 0.35371348951687787, 'B': 0.05620640259323078, 'C': 0.025088201602550424, 'D': 0.0458965587784945, 'a': 0.009052301346738494, 'b': 0.007775075924017355, 'c': 0.002648223999842302, 'd': 0.005643701537789457, '1': 0.16675926991127013, '2': 0.15829066162716568, '3': 0.0990211960497692, '4': 0.06990491711225377}\n",
            "{'A': 0.3976320993806074, 'B': 0.05817167352154205, 'C': 0.027590530711297648, 'D': 0.056788047935230436, 'a': 0.006928480332264467, 'b': 0.005025318160597869, 'c': 0.0020133359596437228, 'd': 0.004190673638499698, '1': 0.1677666487530374, '2': 0.12590042871134458, '3': 0.09001714622519143, '4': 0.05797561667074342}\n",
            "{'A': 0.41852660142068526, 'B': 0.05297535719827885, 'C': 0.028507560432357314, 'D': 0.035654405470025984, 'a': 0.009122344893701966, 'b': 0.006432501893567928, 'c': 0.002446014274311628, 'd': 0.0055721779053645405, '1': 0.1603727016801113, '2': 0.1302173099390684, '3': 0.08525895585397165, '4': 0.06491406903855505}\n",
            "{'A': 0.36792713210409966, 'B': 0.07806340392529582, 'C': 0.03445486730602166, 'D': 0.05116301676733301, 'a': 0.004535038173741341, 'b': 0.004292492335427551, 'c': 0.001476163612691747, 'd': 0.0022501939060302887, '1': 0.2054195511908124, '2': 0.1350073283187344, '3': 0.06215192317800865, '4': 0.05325888918180355}\n",
            "{'A': 0.4431271726540753, 'B': 0.054678602947524586, 'C': 0.026636992306086058, 'D': 0.04744048975252447, 'a': 0.007103980076795589, 'b': 0.00488002212561909, 'c': 0.0018817175892914175, 'd': 0.004244375846711322, '1': 0.15025428472917232, '2': 0.12367833991922789, '3': 0.08159373325720028, '4': 0.05448028879577146}\n",
            "{'A': 0.47683937282252203, 'B': 0.043759221342235734, 'C': 0.029572115265337505, 'D': 0.044368708453584114, 'a': 0.006642754150385514, 'b': 0.004412327309274016, 'c': 0.0023625280565381605, 'd': 0.004364750005558348, '1': 0.13958018919370524, '2': 0.1155283685958211, '3': 0.08132049107855462, '4': 0.05124917372648367}\n",
            "{'A': 0.4117775648156434, 'B': 0.04624759515213985, 'C': 0.030461749344274546, 'D': 0.047615281660672526, 'a': 0.00685629617057266, 'b': 0.005162212912820143, 'c': 0.0021309853168805927, 'd': 0.004043228568792, '1': 0.14450231196117888, '2': 0.14903244552316586, '3': 0.09563451772164935, '4': 0.056535810852210246}\n",
            "{'A': 0.47565599821901966, 'B': 0.046815547635296925, 'C': 0.025297663786740688, 'D': 0.040363067306964366, 'a': 0.007497684144588004, 'b': 0.0048081739816508715, 'c': 0.001957264830095794, 'd': 0.003904420209307059, '1': 0.14376894659439554, '2': 0.13583241590168696, '3': 0.06466937789021626, '4': 0.049429439500037815}\n",
            "{'A': 0.4217381950981608, 'B': 0.061716523097190557, 'C': 0.03033143063802805, 'D': 0.04882430249453037, 'a': 0.006535790874645004, 'b': 0.004538873594939481, 'c': 0.0017566266163343822, 'd': 0.0032196239524645083, '1': 0.1557100060508847, '2': 0.13484396731120019, '3': 0.0781747397777116, '4': 0.052609920493910306}\n",
            "{'A': 0.35927553094517584, 'B': 0.040373154024969465, 'C': 0.02395929707755706, 'D': 0.047893854771137015, 'a': 0.007131683183343103, 'b': 0.005371871217622604, 'c': 0.002430666729045147, 'd': 0.005454114318493915, '1': 0.17001137241306874, '2': 0.1705511658707089, '3': 0.10570289204241898, '4': 0.06184439740645916}\n",
            "{'A': 0.34371390301222815, 'B': 0.09791661003057943, 'C': 0.03324817659687239, 'D': 0.05508319021985784, 'a': 0.005279663922849454, 'b': 0.00668331786374233, 'c': 0.0018577638584971574, 'd': 0.0029585065239048727, '1': 0.18232481284221935, '2': 0.14967452783534574, '3': 0.06993514739412773, '4': 0.05132437989977573}\n",
            "{'A': 0.37748989239026043, 'B': 0.05299205511219052, 'C': 0.028456073092685434, 'D': 0.04082376508947137, 'a': 0.0071112846354462736, 'b': 0.005439499610291268, 'c': 0.0020078739616467725, 'd': 0.003240233718418635, '1': 0.199012377271431, '2': 0.15704396819712044, '3': 0.07349714539147421, '4': 0.05288583152956377}\n",
            "{'A': 0.42628549758118095, 'B': 0.05247120200173358, 'C': 0.03190927203337872, 'D': 0.05292370612244902, 'a': 0.007901368362478116, 'b': 0.005210883850611528, 'c': 0.0022149698125048948, 'd': 0.005171417323487396, '1': 0.14595767776652252, '2': 0.13087455222111813, '3': 0.08263275095598746, '4': 0.056446701968547515}\n",
            "{'A': 0.38228248890055233, 'B': 0.07749522984851816, 'C': 0.02243497154093665, 'D': 0.041142885677314465, 'a': 0.005905167884168088, 'b': 0.006349195481027502, 'c': 0.001456927686574873, 'd': 0.0028187606900496954, '1': 0.1874981418809006, '2': 0.14975080913606673, '3': 0.07512026494002524, '4': 0.0477451563338655}\n",
            "{'A': 0.4043793672850699, 'B': 0.08549154316029904, 'C': 0.026737926308710868, 'D': 0.05109238725635078, 'a': 0.005804571567762663, 'b': 0.006183426132673888, 'c': 0.001710028889130075, 'd': 0.0034685215426525392, '1': 0.16689146645272768, '2': 0.1250553112544607, '3': 0.07239523837170363, '4': 0.05079021177845831}\n",
            "{'A': 0.4493038306088761, 'B': 0.061674759121962706, 'C': 0.0310584253107408, 'D': 0.039237347851273766, 'a': 0.008086311672472623, 'b': 0.00578673628826317, 'c': 0.002870965392468911, 'd': 0.004519420142041298, '1': 0.1533854698134302, '2': 0.11876426534379404, '3': 0.07372581415488275, '4': 0.05158665429979381}\n",
            "{'A': 0.41630223306236, 'B': 0.08817670459858729, 'C': 0.028306659086805637, 'D': 0.04591155233840744, 'a': 0.005030915054293285, 'b': 0.005073149338036918, 'c': 0.0013672282235355476, 'd': 0.002319142165733249, '1': 0.17821801203969279, '2': 0.12601757233146174, '3': 0.062302363539358904, '4': 0.04097446822172723}\n",
            "{'A': 0.35011734462467853, 'B': 0.08765120985710594, 'C': 0.024970302972237002, 'D': 0.07042905406433908, 'a': 0.005049739777569058, 'b': 0.005928535143040665, 'c': 0.0016385132957457557, 'd': 0.004006026480898633, '1': 0.17742338944396713, '2': 0.15093210126522152, '3': 0.06673878187991868, '4': 0.055115001195278096}\n",
            "{'A': 0.34369361770267115, 'B': 0.08974851749537908, 'C': 0.03539270609907794, 'D': 0.0664724253232987, 'a': 0.005687311866791787, 'b': 0.005503549027737281, 'c': 0.0017772375402804028, 'd': 0.0030872642045580924, '1': 0.18276806510933166, '2': 0.1427349369952835, '3': 0.07289533734811057, '4': 0.05023903128747986}\n",
            "{'A': 0.45823054225501203, 'B': 0.062253085659083184, 'C': 0.025359175788101828, 'D': 0.03702583150296993, 'a': 0.007898561002825214, 'b': 0.005684054846851026, 'c': 0.0019894880377326713, 'd': 0.0039616137189853766, '1': 0.157768125049134, '2': 0.10520673731994332, '3': 0.08240998506733545, '4': 0.052212799752026015}\n",
            "{'A': 0.4374194780649683, 'B': 0.05800326297415753, 'C': 0.038460346958500743, 'D': 0.05805185095637226, 'a': 0.008137952555407965, 'b': 0.005805226432080524, 'c': 0.0032076692585793925, 'd': 0.004654081599621096, '1': 0.138074262063817, '2': 0.12098098589619405, '3': 0.06582567022526363, '4': 0.06137921301503749}\n",
            "{'A': 0.37303839250649434, 'B': 0.06914468723051542, 'C': 0.025996952827489258, 'D': 0.054265041199018406, 'a': 0.005670644979763151, 'b': 0.005974858420103805, 'c': 0.002011518021427431, 'd': 0.003700001910926544, '1': 0.1755627178548989, '2': 0.14614859063037233, '3': 0.08670801179611762, '4': 0.05177858262287262}\n",
            "{'A': 0.38643810772752074, 'B': 0.09729642062595069, 'C': 0.023465796169829953, 'D': 0.08788272406741177, 'a': 0.004729165132834909, 'b': 0.005659929219265441, 'c': 0.001433581250001678, 'd': 0.0036194745637796923, '1': 0.17269038338501372, '2': 0.11549102130194865, '3': 0.0610726390201826, '4': 0.040220757536260164}\n",
            "{'A': 0.4308996105516892, 'B': 0.04242747493235784, 'C': 0.029560117155924572, 'D': 0.043629730210519926, 'a': 0.007227787822834205, 'b': 0.004352423325543137, 'c': 0.0021816133463911907, 'd': 0.0039039435205196595, '1': 0.15237017400606895, '2': 0.1335361294490029, '3': 0.09673864771241955, '4': 0.05317234796672905}\n",
            "{'A': 0.3725306864980598, 'B': 0.1086689073090618, 'C': 0.040750918542439764, 'D': 0.06662515651456431, 'a': 0.004124612258530479, 'b': 0.004646519127204205, 'c': 0.0019052407045989342, 'd': 0.002711438472912636, '1': 0.17538331058023737, '2': 0.1164575942020448, '3': 0.06294578245980968, '4': 0.04324983333053631}\n",
            "{'A': 0.39457586648063125, 'B': 0.07708519156554186, 'C': 0.02270547072104786, 'D': 0.04685121081243313, 'a': 0.004337822582877382, 'b': 0.005626991450261546, 'c': 0.0012981475196441714, 'd': 0.0030714801433590943, '1': 0.18077132215646616, '2': 0.14640843605019632, '3': 0.07221401167715297, '4': 0.04505404884038841}\n",
            "{'A': 0.34285101904501647, 'B': 0.1428340900265804, 'C': 0.026535181779650637, 'D': 0.09285921550839422, 'a': 0.0053037575622068515, 'b': 0.006663984275941426, 'c': 0.001270144271871767, 'd': 0.003274787782562468, '1': 0.1690396239944423, '2': 0.11381928655929031, '3': 0.054932016662986465, '4': 0.040616892531056284}\n",
            "{'A': 0.27932861640161966, 'B': 0.12355736725635548, 'C': 0.02106889987130682, 'D': 0.052374990309738016, 'a': 0.004509607783759891, 'b': 0.006719052432749361, 'c': 0.0013302207876287621, 'd': 0.0021782221067352023, '1': 0.22548352120536483, '2': 0.15715097448669313, '3': 0.07918069890843596, '4': 0.04711782844961311}\n",
            "{'A': 0.394989955822236, 'B': 0.07616299285270145, 'C': 0.03456865167214192, 'D': 0.06158509870336311, 'a': 0.004414822664252279, 'b': 0.003880700351206461, 'c': 0.0014327774125739265, 'd': 0.00244470434741329, '1': 0.1957077066204548, '2': 0.1272926076809331, '3': 0.05999828411447515, '4': 0.03752169775824828}\n",
            "{'A': 0.35082882081245503, 'B': 0.05228298684838508, 'C': 0.026302175929911763, 'D': 0.044020811224802926, 'a': 0.007001679744893933, 'b': 0.005094826353327489, 'c': 0.0019292760024684974, 'd': 0.003931416285601693, '1': 0.17484646789545844, '2': 0.17263352385231368, '3': 0.09769257069321928, '4': 0.06343544435716209}\n",
            "{'A': 0.4622234604339267, 'B': 0.033359814372064533, 'C': 0.024786275504856573, 'D': 0.06072762613088058, 'a': 0.008406302549753207, 'b': 0.004197132902534555, 'c': 0.0022133203592430368, 'd': 0.0046084355338330465, '1': 0.12570738391430275, '2': 0.12929590309416875, '3': 0.07928718996484577, '4': 0.0651871552395903}\n",
            "{'A': 0.3490887138922439, 'B': 0.07545326187764406, 'C': 0.034023399093566206, 'D': 0.043363556380728266, 'a': 0.0063988214144785486, 'b': 0.007168226568708023, 'c': 0.002147653975580631, 'd': 0.003289166401883947, '1': 0.19558250065759183, '2': 0.15955581573791114, '3': 0.073174086097172, '4': 0.050754797902491426}\n",
            "{'A': 0.3206088786542053, 'B': 0.07068034229343163, 'C': 0.03023259090515069, 'D': 0.056547454003715754, 'a': 0.0053053143446681415, 'b': 0.004861498556273462, 'c': 0.0016345936909860346, 'd': 0.003078737380682851, '1': 0.2219200696846472, '2': 0.15440656431461222, '3': 0.07789072234661418, '4': 0.0528332338250124}\n",
            "{'A': 0.4062039560125616, 'B': 0.08061241173331339, 'C': 0.030647951882524286, 'D': 0.049871275022151766, 'a': 0.006284027930926087, 'b': 0.00550556514740005, 'c': 0.0017223935124818257, 'd': 0.003325590266121197, '1': 0.1675527477266952, '2': 0.12663548790513257, '3': 0.07172934975152229, '4': 0.049909243109169665}\n",
            "{'A': 0.34229094531974846, 'B': 0.13602959504969653, 'C': 0.03080348157514504, 'D': 0.057566374406501024, 'a': 0.005183414980770132, 'b': 0.006656449085776499, 'c': 0.0013414369423715735, 'd': 0.0027255037685371165, '1': 0.1865527698887234, '2': 0.1270077332404504, '3': 0.06164542909565907, '4': 0.04219686664662089}\n",
            "{'A': 0.3935515107380251, 'B': 0.05952163242949009, 'C': 0.03174184194393527, 'D': 0.04168019647289836, 'a': 0.008241435950296175, 'b': 0.006566273222192318, 'c': 0.0027346520310761535, 'd': 0.00572836333383945, '1': 0.14678762806640824, '2': 0.13676997427720283, '3': 0.10596619582440024, '4': 0.060710295710235763}\n",
            "{'A': 0.4847389884264196, 'B': 0.04870835461840755, 'C': 0.0287215729527383, 'D': 0.042421752117164015, 'a': 0.0054164745801236844, 'b': 0.0035396850267042706, 'c': 0.0014817677816028852, 'd': 0.0030200456731535002, '1': 0.13474535412315694, '2': 0.11925169104060737, '3': 0.07333149588767188, '4': 0.05462281777225016}\n",
            "{'A': 0.3841601442837261, 'B': 0.06857999043027561, 'C': 0.029237111871835163, 'D': 0.048768246057224185, 'a': 0.007748452512195336, 'b': 0.006334992159018949, 'c': 0.002113885437056004, 'd': 0.004195104146249471, '1': 0.18542433103579473, '2': 0.14606599596779965, '3': 0.0692164185609238, '4': 0.04815532753790103}\n",
            "{'A': 0.3927687714553771, 'B': 0.07139166264771866, 'C': 0.02372336157142467, 'D': 0.05815170993793591, 'a': 0.0077474777723549855, 'b': 0.006447629581463536, 'c': 0.0017553664335035741, 'd': 0.004728654075229889, '1': 0.15287570180138438, '2': 0.13830544183296833, '3': 0.08689354758114065, '4': 0.05521067530949827}\n",
            "{'A': 0.36486693691056826, 'B': 0.07612065690371432, 'C': 0.02902453732555123, 'D': 0.0565799385943679, 'a': 0.0054005199710056165, 'b': 0.005504525838238456, 'c': 0.0015016022432396744, 'd': 0.002781636091536537, '1': 0.19186619021881982, '2': 0.1499039745490189, '3': 0.06888375544843851, '4': 0.04756572590550067}\n",
            "{'A': 0.32363400288751193, 'B': 0.0467894200627887, 'C': 0.02526850368128809, 'D': 0.050622506839132914, 'a': 0.009403760003992187, 'b': 0.006684844689786315, 'c': 0.0025635001910601723, 'd': 0.0056052150541241515, '1': 0.1889105536082681, '2': 0.1646852527128354, '3': 0.11400475392964293, '4': 0.061827686339569136}\n",
            "{'A': 0.4584608211643822, 'B': 0.051769475295715635, 'C': 0.03311635160228542, 'D': 0.06076512809586007, 'a': 0.006989259042372997, 'b': 0.004283512766688535, 'c': 0.0019775383315813453, 'd': 0.0035591515111412586, '1': 0.12796997424173398, '2': 0.116471992805273, '3': 0.08291331338020731, '4': 0.05172348176275835}\n",
            "{'A': 0.40020309352530203, 'B': 0.08267972387377262, 'C': 0.03397281212987061, 'D': 0.043425044224375424, 'a': 0.005248588413537019, 'b': 0.006299375297341688, 'c': 0.0018479497787394531, 'd': 0.0029466069641781055, '1': 0.17438384581433136, '2': 0.1454482617355722, '3': 0.06195922270159928, '4': 0.041585475541380174}\n",
            "{'A': 0.3856404544021742, 'B': 0.06291734126023278, 'C': 0.02784606288103792, 'D': 0.04475596217068071, 'a': 0.006329815385279645, 'b': 0.005176443664200113, 'c': 0.0016312217896319748, 'd': 0.0032079656311013263, '1': 0.16447982719463636, '2': 0.17330633103486381, '3': 0.07200051538453411, '4': 0.05270805920162708}\n",
            "{'A': 0.4181569851367589, 'B': 0.07844598268577399, 'C': 0.026508831510074174, 'D': 0.047134406148384225, 'a': 0.0055776091361067525, 'b': 0.004954294302941582, 'c': 0.0014424805027091873, 'd': 0.0023846210268546634, '1': 0.17020890077182804, '2': 0.13196095646385445, '3': 0.06953734374452471, '4': 0.04368758857018927}\n",
            "{'A': 0.48894186374069426, 'B': 0.06564036116551072, 'C': 0.023202509125735588, 'D': 0.055400856284890984, 'a': 0.0054294161603269, 'b': 0.003932150273624418, 'c': 0.0013802276884139222, 'd': 0.0033506748614393397, '1': 0.13006277453659226, '2': 0.10581170709482418, '3': 0.06897694346906004, '4': 0.047870515598887456}\n",
            "{'A': 0.3879572826271535, 'B': 0.07404463784194712, 'C': 0.028228220187124023, 'D': 0.053811985432188375, 'a': 0.00555929313735215, 'b': 0.0055880710684396975, 'c': 0.0017405959035316095, 'd': 0.0037488851986985394, '1': 0.17317527004865507, '2': 0.1428116414922911, '3': 0.07632195452453999, '4': 0.04701216253807899}\n",
            "{'A': 0.36724035483405304, 'B': 0.07696909809991041, 'C': 0.028174686434224664, 'D': 0.04717931101573688, 'a': 0.006447512468874954, 'b': 0.006662171457320429, 'c': 0.0018468099305425998, 'd': 0.0034830249841595606, '1': 0.1858121868368448, '2': 0.1556106115795211, '3': 0.07219855997012738, '4': 0.04837567238868419}\n",
            "{'A': 0.3757873572696115, 'B': 0.07587997096878966, 'C': 0.03516350321553905, 'D': 0.049617911607946825, 'a': 0.005843896171650765, 'b': 0.005742320925858832, 'c': 0.0019197128256523682, 'd': 0.0029311960398277275, '1': 0.19023029251585874, '2': 0.14499310350008474, '3': 0.06563408072230009, '4': 0.04625665423687968}\n",
            "{'A': 0.3511652223014159, 'B': 0.09555656388234406, 'C': 0.026154522119697817, 'D': 0.05004912921343005, 'a': 0.005787687222849925, 'b': 0.006744831550437461, 'c': 0.0018000244678030466, 'd': 0.003282713577181353, '1': 0.194314333315743, '2': 0.14706918654003184, '3': 0.06782789471728101, '4': 0.05024789109178457}\n",
            "{'A': 0.33607082686486345, 'B': 0.13205757389848016, 'C': 0.02315436830655933, 'D': 0.056704598115752784, 'a': 0.005003454417360573, 'b': 0.00895220980987757, 'c': 0.0013111601094562757, 'd': 0.003266664326793167, '1': 0.17870319844629798, '2': 0.14753739245749606, '3': 0.06544235406568259, '4': 0.04179619918138009}\n",
            "{'A': 0.3845553988687601, 'B': 0.08960912461912868, 'C': 0.030104222665096783, 'D': 0.0753570490361901, 'a': 0.004514843173090211, 'b': 0.00538386913807453, 'c': 0.0015154332459171073, 'd': 0.003484962945062587, '1': 0.17102600860684483, '2': 0.12162167729956919, '3': 0.06451263118473662, '4': 0.04831477921752925}\n",
            "{'A': 0.4455050336549792, 'B': 0.05842272076501652, 'C': 0.03114481995500063, 'D': 0.06928137144718459, 'a': 0.006215825626980517, 'b': 0.0051551943893028964, 'c': 0.002281707766403254, 'd': 0.005079512255806024, '1': 0.1252856885344937, '2': 0.10750359411096023, '3': 0.07586260634897765, '4': 0.06826192514489479}\n",
            "{'A': 0.43160422526008974, 'B': 0.046423291496779075, 'C': 0.02107626502765764, 'D': 0.0361631167016076, 'a': 0.006786312941351472, 'b': 0.0044474159732005554, 'c': 0.0017047736280036013, 'd': 0.0027510962148597283, '1': 0.18007390140262733, '2': 0.13379301823432646, '3': 0.08404536861830324, '4': 0.05113121450119346}\n",
            "{'A': 0.3790381015911555, 'B': 0.05059034615438892, 'C': 0.03720549213072046, 'D': 0.04711466171735774, 'a': 0.009738602765923341, 'b': 0.006493324346973325, 'c': 0.003093208560475414, 'd': 0.005712278401578416, '1': 0.16027702105361996, '2': 0.1462741458606445, '3': 0.09372139281462967, '4': 0.06074142460253288}\n",
            "{'A': 0.34852921255355557, 'B': 0.0683026084381446, 'C': 0.025615872475666518, 'D': 0.04885232668010761, 'a': 0.0067912600202032995, 'b': 0.00535263973815267, 'c': 0.0015352661288016098, 'd': 0.003258550534464526, '1': 0.18805829378935876, '2': 0.17477414525231383, '3': 0.07342042286974594, '4': 0.05550940151948511}\n",
            "{'A': 0.3838610143491549, 'B': 0.07893261591410865, 'C': 0.030243062750679922, 'D': 0.06968277153344009, 'a': 0.007816579957183925, 'b': 0.006903385614735119, 'c': 0.002036624084001201, 'd': 0.004796889900969354, '1': 0.1713513649618196, '2': 0.12568439570803097, '3': 0.07098141974290842, '4': 0.047709875482967845}\n",
            "{'A': 0.4068933515713481, 'B': 0.05641323936051092, 'C': 0.02208272654877146, 'D': 0.04516034066515199, 'a': 0.006595007718166713, 'b': 0.005083489905882292, 'c': 0.0017070840757228286, 'd': 0.0032284905569708896, '1': 0.17077013093011711, '2': 0.1383091662957492, '3': 0.0918896492898917, '4': 0.05186732308171652}\n",
            "{'A': 0.38149803583793573, 'B': 0.05881846375789217, 'C': 0.030917096021451426, 'D': 0.054664556344162556, 'a': 0.00522156071887868, 'b': 0.004262965637816763, 'c': 0.0016252150183533106, 'd': 0.0033357552533203353, '1': 0.1564709470078705, '2': 0.13969151298978155, '3': 0.10803792464652032, '4': 0.05545596676601632}\n",
            "{'A': 0.4867206912725981, 'B': 0.051865502076118654, 'C': 0.027398059312576876, 'D': 0.05564759434731363, 'a': 0.006765268743078821, 'b': 0.004021552468105983, 'c': 0.0019092073497243944, 'd': 0.003703478305390941, '1': 0.12981167508676755, '2': 0.11015208807065092, '3': 0.06953090934440473, '4': 0.05247397362326958}\n",
            "{'A': 0.448533379349703, 'B': 0.07194123930420013, 'C': 0.03276903963316194, 'D': 0.03814690124691935, 'a': 0.00791252132088902, 'b': 0.006739662515597504, 'c': 0.002743814737265966, 'd': 0.004793679398358844, '1': 0.14876250823673964, '2': 0.11701138644628689, '3': 0.06939998188998595, '4': 0.051245885920891666}\n",
            "{'A': 0.31819159680412457, 'B': 0.05234445678130968, 'C': 0.039642866334000694, 'D': 0.05799608856934777, 'a': 0.007757430030974327, 'b': 0.006485594496200432, 'c': 0.0030339735838555244, 'd': 0.005446999468732183, '1': 0.1761002242506152, '2': 0.1510113986025107, '3': 0.11413863003753942, '4': 0.0678507410407895}\n",
            "{'A': 0.43612477034756736, 'B': 0.07460987382493142, 'C': 0.026142816001216502, 'D': 0.05111753747544398, 'a': 0.0048443449001108725, 'b': 0.004190584307734091, 'c': 0.0012732991786667854, 'd': 0.0024610611870958757, '1': 0.1699787370056846, '2': 0.12169910534951357, '3': 0.06782547410485151, '4': 0.03973239631718332}\n",
            "{'A': 0.4547253701423444, 'B': 0.05927047305688871, 'C': 0.028086121247302212, 'D': 0.04585294150647755, 'a': 0.00701083113615427, 'b': 0.004921599357032147, 'c': 0.0018076808562642232, 'd': 0.0036502647645670905, '1': 0.14225788471918302, '2': 0.12743209943182646, '3': 0.0678504511577107, '4': 0.05713428262424915}\n",
            "{'A': 0.37276880978953963, 'B': 0.07129413938473124, 'C': 0.03179416462734631, 'D': 0.05540227603350531, 'a': 0.005487294829885767, 'b': 0.0066089246430800054, 'c': 0.0022703971400004686, 'd': 0.00438447615039625, '1': 0.18569556613618934, '2': 0.1485854951131922, '3': 0.0696558969657088, '4': 0.04605255918642457}\n",
            "{'A': 0.2744908184819149, 'B': 0.10305310383857559, 'C': 0.022850239992069504, 'D': 0.05285509695183122, 'a': 0.005351320889351453, 'b': 0.006602695216868355, 'c': 0.0017020115522906444, 'd': 0.0030477127279250043, '1': 0.24241940572163276, '2': 0.15218849307646518, '3': 0.08448411672396143, '4': 0.050954984827114}\n",
            "{'A': 0.358771799993374, 'B': 0.05766988424823341, 'C': 0.02368013541901637, 'D': 0.0703702610054917, 'a': 0.006465101779597388, 'b': 0.005718669559585075, 'c': 0.0020702801530668846, 'd': 0.005446903572111087, '1': 0.15684973287716233, '2': 0.14395125124643646, '3': 0.10019120159519239, '4': 0.06881477855073298}\n",
            "{'A': 0.3659479873232893, 'B': 0.09102860926276411, 'C': 0.03816157553400963, 'D': 0.05846011416355755, 'a': 0.0052247190050237835, 'b': 0.0052470091030585335, 'c': 0.00195326602203911, 'd': 0.0028777133070566753, '1': 0.19531115423512566, '2': 0.12517878907254676, '3': 0.06714115823445055, '4': 0.043467904737078254}\n",
            "{'A': 0.4831399696705617, 'B': 0.05327517763199516, 'C': 0.036634110025724365, 'D': 0.056576622122328966, 'a': 0.007682501170465286, 'b': 0.005037942114713925, 'c': 0.0029574535790774857, 'd': 0.004807595555997797, '1': 0.1327172275724337, '2': 0.09832335359207693, '3': 0.07106023086745708, '4': 0.047787816097167535}\n",
            "{'A': 0.45363959638636603, 'B': 0.05209022588127296, 'C': 0.022555509103963114, 'D': 0.04216070408315311, 'a': 0.006095853293472135, 'b': 0.004213126096787745, 'c': 0.0013312097795029644, 'd': 0.0029587687273068455, '1': 0.14727661879086978, '2': 0.13301984251662047, '3': 0.08263266122451977, '4': 0.052025884116165086}\n",
            "{'A': 0.3551625817142594, 'B': 0.11831173470052903, 'C': 0.028536848742153748, 'D': 0.06373862773814681, 'a': 0.005811806264335749, 'b': 0.0075847245703136385, 'c': 0.0015924971557412133, 'd': 0.0035278031203789875, '1': 0.17156761937863144, '2': 0.1405533398251674, '3': 0.06134830320183505, '4': 0.042264113588507575}\n",
            "{'A': 0.48913702235063145, 'B': 0.06218892889152316, 'C': 0.02720436937274418, 'D': 0.056810272781114765, 'a': 0.005805283953473289, 'b': 0.004179945880391173, 'c': 0.0014678000491044534, 'd': 0.004089820653127651, '1': 0.11998117911275134, '2': 0.10337955354281979, '3': 0.0724806711061095, '4': 0.053275152306209377}\n",
            "{'A': 0.4272482997651146, 'B': 0.06156574747664577, 'C': 0.024001395033435055, 'D': 0.03891570353395425, 'a': 0.007503741518130081, 'b': 0.005286897710657118, 'c': 0.0018602914818715468, 'd': 0.0036057842519636634, '1': 0.1644489228632119, '2': 0.13643647851324095, '3': 0.0780205041408607, '4': 0.05110623371091436}\n",
            "{'A': 0.3630819831296766, 'B': 0.07435914673498926, 'C': 0.026957205338176634, 'D': 0.05028177705171896, 'a': 0.006924675221169014, 'b': 0.006513038772123243, 'c': 0.001869982386074863, 'd': 0.0039563976180653085, '1': 0.20114226251475456, '2': 0.15798410248493344, '3': 0.06570061706718824, '4': 0.041228811681129934}\n",
            "{'A': 0.4737318971593839, 'B': 0.05375706011947333, 'C': 0.02476897195925365, 'D': 0.04393259569249441, 'a': 0.005800770251605351, 'b': 0.003505122971745982, 'c': 0.0012983719495148012, 'd': 0.0026690451801301865, '1': 0.14593103445377925, '2': 0.12382289744285291, '3': 0.07534184290407644, '4': 0.045440389915689806}\n",
            "{'A': 0.46676139443101394, 'B': 0.0514175234390038, 'C': 0.027427908915213645, 'D': 0.04560556262530873, 'a': 0.007477777871286925, 'b': 0.004279123449405306, 'c': 0.0020305036426853476, 'd': 0.0035905674706668196, '1': 0.14967299083682412, '2': 0.1138647725414284, '3': 0.07815839163204737, '4': 0.04971348314511564}\n",
            "{'A': 0.3492288045152594, 'B': 0.09659759955503601, 'C': 0.036508627290537735, 'D': 0.0678812085462887, 'a': 0.005318926174805346, 'b': 0.0066397932326720446, 'c': 0.0019163461017356336, 'd': 0.00334488044494356, '1': 0.17352664729316722, '2': 0.1330528248405363, '3': 0.07547547947590655, '4': 0.05050886252911163}\n",
            "{'A': 0.2968369989482581, 'B': 0.04162106635535815, 'C': 0.03211145274524954, 'D': 0.05744479405088107, 'a': 0.009277160253152509, 'b': 0.006312672232466447, 'c': 0.0037411619192869025, 'd': 0.00827117826991415, '1': 0.19047419097136267, '2': 0.15667830150123552, '3': 0.11612935431281046, '4': 0.08110166844002444}\n",
            "{'A': 0.391248398396845, 'B': 0.060036860898753756, 'C': 0.02959408802223334, 'D': 0.06513919789274382, 'a': 0.006537602897351566, 'b': 0.005766586899164852, 'c': 0.0020893640515848378, 'd': 0.005392342304260539, '1': 0.1479521006682602, '2': 0.14154788772279397, '3': 0.09053018778704652, '4': 0.05416538245896177}\n",
            "{'A': 0.38627127913859055, 'B': 0.08198676627851056, 'C': 0.029479649604447426, 'D': 0.05396642656355247, 'a': 0.004153419147891447, 'b': 0.005493095693505982, 'c': 0.0012513189461632226, 'd': 0.0023183404219578544, '1': 0.18808992394697843, '2': 0.13639522237806906, '3': 0.06982296081689043, '4': 0.040771597063442536}\n",
            "{'A': 0.2820391372737105, 'B': 0.08840998921229107, 'C': 0.031490139892929765, 'D': 0.05360997227764665, 'a': 0.005182197586665404, 'b': 0.008674195451115236, 'c': 0.002141104661301597, 'd': 0.004277509378107953, '1': 0.21338865660554782, '2': 0.1859459628196711, '3': 0.07425028252019027, '4': 0.05059085232082295}\n",
            "{'A': 0.3638866077441948, 'B': 0.08124612851752583, 'C': 0.028724741400017642, 'D': 0.051501533762806, 'a': 0.004656875279245529, 'b': 0.004333149252442351, 'c': 0.0012897559371081433, 'd': 0.002128148139558702, '1': 0.2049153258213559, '2': 0.13719787284118395, '3': 0.0735282517382453, '4': 0.04659160956631591}\n",
            "{'A': 0.3239462062171213, 'B': 0.0999140031908953, 'C': 0.03669291546772983, 'D': 0.06031814852803188, 'a': 0.005631808184875843, 'b': 0.00741006269878527, 'c': 0.002344317527924916, 'd': 0.003061055898016845, '1': 0.20599758782186134, '2': 0.12564597743140987, '3': 0.07864704202258595, '4': 0.05039087501076166}\n",
            "{'A': 0.3522740607303083, 'B': 0.06390619795325873, 'C': 0.02706784594737664, 'D': 0.0660416557221984, 'a': 0.00725704486048531, 'b': 0.00620260459157848, 'c': 0.0023721330369704343, 'd': 0.0053272510656486695, '1': 0.16399272251598984, '2': 0.14462897153505122, '3': 0.10195307720006727, '4': 0.058976434841066634}\n",
            "{'A': 0.40153940786773845, 'B': 0.049402225263019954, 'C': 0.03307377972229732, 'D': 0.05178928497818394, 'a': 0.007564236698769139, 'b': 0.005750124270946689, 'c': 0.002824877963867626, 'd': 0.005143820375678245, '1': 0.14024320775038543, '2': 0.1411327552986619, '3': 0.08446652111027106, '4': 0.07706975870018014}\n",
            "{'A': 0.3625078814073932, 'B': 0.050482651493785786, 'C': 0.02497042718227247, 'D': 0.03674684532297908, 'a': 0.006858797794644994, 'b': 0.005525492353722247, 'c': 0.002034961118019496, 'd': 0.00392574604661489, '1': 0.17483722346856378, '2': 0.16434903753453928, '3': 0.10346007011110979, '4': 0.06430086616635475}\n",
            "{'A': 0.43390880435077317, 'B': 0.05430497936309083, 'C': 0.025471414577672134, 'D': 0.04078814838607536, 'a': 0.006536997843752631, 'b': 0.004549151039118349, 'c': 0.0017123014641347945, 'd': 0.0031650795183847786, '1': 0.15172104387246432, '2': 0.12412953668563227, '3': 0.09407860857375416, '4': 0.059633934325147284}\n",
            "{'A': 0.3188621490239516, 'B': 0.08445863954425835, 'C': 0.031982375209072884, 'D': 0.05035191620720153, 'a': 0.005769097199918011, 'b': 0.008393938865337737, 'c': 0.0019007960272911547, 'd': 0.0040703859900038195, '1': 0.1892990245799368, '2': 0.17586281804733714, '3': 0.07479681305564569, '4': 0.05425204625004531}\n",
            "{'A': 0.33560221284568603, 'B': 0.07315263846660132, 'C': 0.028049854303330443, 'D': 0.0437729285878681, 'a': 0.006705540271244122, 'b': 0.007019736746463491, 'c': 0.002043764032538205, 'd': 0.0038555035700548216, '1': 0.17926355459529725, '2': 0.17214274220986978, '3': 0.09799496808290334, '4': 0.050396556288143296}\n",
            "{'A': 0.3375617411510377, 'B': 0.09308470684889776, 'C': 0.03418143515458034, 'D': 0.05286828606886488, 'a': 0.005288540444265654, 'b': 0.006975815695820403, 'c': 0.0021843584634985247, 'd': 0.0035062757887434366, '1': 0.18520403919150824, '2': 0.14861451735381687, '3': 0.07248310515409057, '4': 0.05804717868487559}\n",
            "{'A': 0.3680180621063238, 'B': 0.07023265362420301, 'C': 0.0277975204105165, 'D': 0.05595634527738834, 'a': 0.005506725865909101, 'b': 0.004712066198147643, 'c': 0.0017140186708023148, 'd': 0.003815590875848879, '1': 0.1599200610583684, '2': 0.13231616447478284, '3': 0.10665048975587454, '4': 0.06336030168183451}\n",
            "CP:  0.39293624797471366\n"
          ]
        }
      ]
    },
    {
      "cell_type": "code",
      "source": [],
      "metadata": {
        "id": "yYIEZEVioDau"
      },
      "execution_count": null,
      "outputs": []
    }
  ]
}